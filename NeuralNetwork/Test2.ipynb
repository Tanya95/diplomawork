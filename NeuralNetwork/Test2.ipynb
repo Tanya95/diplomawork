{
 "cells": [
  {
   "cell_type": "code",
   "execution_count": 682,
   "metadata": {},
   "outputs": [
    {
     "name": "stdout",
     "output_type": "stream",
     "text": [
      "Populating the interactive namespace from numpy and matplotlib\n"
     ]
    },
    {
     "name": "stderr",
     "output_type": "stream",
     "text": [
      "/opt/conda/lib/python3.5/site-packages/IPython/core/magics/pylab.py:161: UserWarning: pylab import has clobbered these variables: ['test']\n",
      "`%matplotlib` prevents importing * from pylab and numpy\n",
      "  \"\\n`%matplotlib` prevents importing * from pylab and numpy\"\n"
     ]
    }
   ],
   "source": [
    "import pickle as cPickle\n",
    "import gzip\n",
    "\n",
    "import numpy as np\n",
    "%pylab inline \n",
    "import matplotlib.pyplot as pl"
   ]
  },
  {
   "cell_type": "code",
   "execution_count": 683,
   "metadata": {
    "collapsed": true
   },
   "outputs": [],
   "source": [
    "def load_data():\n",
    "    '''\n",
    "    traning_data - массив из 50000 тренировочных примеров, \n",
    "    0 - элемент содержит массив массивов бит изображений\n",
    "    1 - соответствующий картинке номер\n",
    "    validation_data и test_data аналогичные, но содержат \n",
    "    по 10000 значений\n",
    "    '''\n",
    "    f = gzip.open('mnist.pkl.gz', 'rb')\n",
    "    training_data, validation_data, test_data = cPickle.load(f,encoding='latin1')\n",
    "    f.close()\n",
    "    return (training_data, validation_data, test_data)"
   ]
  },
  {
   "cell_type": "code",
   "execution_count": 684,
   "metadata": {
    "collapsed": true
   },
   "outputs": [],
   "source": [
    "def vectorized_result(j):\n",
    "    e = np.zeros((10, 1))\n",
    "    e[j] = 1.0\n",
    "    return e"
   ]
  },
  {
   "cell_type": "code",
   "execution_count": 685,
   "metadata": {
    "collapsed": true
   },
   "outputs": [],
   "source": [
    "\n",
    "\n",
    "def load_data_wrapper():\n",
    "    tr_d, va_d, te_d = load_data()\n",
    "    training_inputs = [np.reshape(x, (784, 1)) for x in tr_d[0]]\n",
    "    training_results = [vectorized_result(y) for y in tr_d[1]]\n",
    "    #print(training_inputs[0])\n",
    "    #print(training_results[0])\n",
    "    training_data = zip(training_inputs, training_results)\n",
    "    #print(training_data[0])\n",
    "    validation_inputs = [np.reshape(x, (784, 1)) for x in va_d[0]]\n",
    "    validation_data = zip(validation_inputs, va_d[1])\n",
    "    test_inputs = [np.reshape(x, (784, 1)) for x in te_d[0]]\n",
    "    test_zipped = zip(test_inputs, te_d[1])\n",
    "    # print(training_data, validation_data, test_zipped)\n",
    "    return (training_data, validation_data,test_zipped)"
   ]
  },
  {
   "cell_type": "code",
   "execution_count": 686,
   "metadata": {
    "collapsed": true
   },
   "outputs": [],
   "source": [
    "# training, validation, test=load_data_wrapper()\n"
   ]
  },
  {
   "cell_type": "code",
   "execution_count": 687,
   "metadata": {
    "collapsed": true
   },
   "outputs": [],
   "source": [
    "#trd = list(training)"
   ]
  },
  {
   "cell_type": "code",
   "execution_count": 688,
   "metadata": {
    "collapsed": true
   },
   "outputs": [],
   "source": [
    "#print(len(trd))\n",
    "#print(trd[1:10][1])\n",
    "#nerobit = trd[0:2]\n",
    "#print(len(nerobit))\n",
    "#print(nerobit[0][0])\n",
    "\n",
    "#mini_batches =[trd[0:10]\n",
    "#                for k in range(0, n, 10)]"
   ]
  },
  {
   "cell_type": "code",
   "execution_count": 689,
   "metadata": {
    "collapsed": true
   },
   "outputs": [],
   "source": [
    "def vectorized_result(j,size):\n",
    "    e = np.zeros((10, size))\n",
    "    print('size',size)\n",
    "    cnt=0\n",
    "    for i in j:\n",
    "        print('i:',i,'j:',j)\n",
    "        e[i][cnt] = 1.0\n",
    "        cnt+=1\n",
    "    return e"
   ]
  },
  {
   "cell_type": "code",
   "execution_count": 690,
   "metadata": {},
   "outputs": [
    {
     "name": "stdout",
     "output_type": "stream",
     "text": [
      "size 5\n",
      "i: 5 j: [5 0 4 1 9]\n",
      "i: 0 j: [5 0 4 1 9]\n",
      "i: 4 j: [5 0 4 1 9]\n",
      "i: 1 j: [5 0 4 1 9]\n",
      "i: 9 j: [5 0 4 1 9]\n",
      "[[ 0.  1.  0.  0.  0.]\n",
      " [ 0.  0.  0.  1.  0.]\n",
      " [ 0.  0.  0.  0.  0.]\n",
      " [ 0.  0.  0.  0.  0.]\n",
      " [ 0.  0.  1.  0.  0.]\n",
      " [ 1.  0.  0.  0.  0.]\n",
      " [ 0.  0.  0.  0.  0.]\n",
      " [ 0.  0.  0.  0.  0.]\n",
      " [ 0.  0.  0.  0.  0.]\n",
      " [ 0.  0.  0.  0.  1.]]\n"
     ]
    },
    {
     "data": {
      "image/png": "[encoded data removed]",
      "text/plain": [
       "<matplotlib.figure.Figure at 0x7f1dc7b9ef60>"
      ]
     },
     "metadata": {},
     "output_type": "display_data"
    }
   ],
   "source": [
    "training, validation, test = load_data()\n",
    "Xdisplay = np.reshape(training[0][1],(28,28))\n",
    "y = vectorized_result(training[1][0:5],5)\n",
    "print(y)\n",
    "#print(training[1][0:10])\n",
    "pl.imshow(Xdisplay,cmap='Greys')\n",
    "pl.xlabel(('Number %d' % training[1][1]))  \n",
    "X = np.float32(training[0][0:5])#, dtype('float32')"
   ]
  },
  {
   "cell_type": "code",
   "execution_count": 691,
   "metadata": {},
   "outputs": [
    {
     "name": "stdout",
     "output_type": "stream",
     "text": [
      "(784, 5)\n"
     ]
    }
   ],
   "source": [
    "print(X.T.shape)\n",
    "# b = np.dot(X.T,5)\n",
    "# for ln in b:\n",
    "#     for el in ln:\n",
    "#         if el >0:\n",
    "#             print(el)"
   ]
  },
  {
   "cell_type": "code",
   "execution_count": 692,
   "metadata": {
    "collapsed": true
   },
   "outputs": [],
   "source": [
    "#testInput = np.arange(-6,6,0.01)\n",
    "#plot(testInput, sigmoid(testInput), linewidth= 2)\n",
    "#grid(1)"
   ]
  },
  {
   "cell_type": "code",
   "execution_count": 693,
   "metadata": {
    "collapsed": true
   },
   "outputs": [],
   "source": [
    "#net = Neural_Network()"
   ]
  },
  {
   "cell_type": "code",
   "execution_count": 694,
   "metadata": {
    "collapsed": true
   },
   "outputs": [],
   "source": [
    "#net.forward(X)"
   ]
  },
  {
   "cell_type": "code",
   "execution_count": 695,
   "metadata": {
    "collapsed": true
   },
   "outputs": [],
   "source": [
    "class Neural_Network(object):\n",
    "    def __init__(self):        \n",
    "        #Define Hyperparameters\n",
    "        self.inputLayerSize = 28*28\n",
    "        self.outputLayerSize = 10\n",
    "        self.hiddenLayerSize = 20\n",
    "        \n",
    "        #Weights (parameters)\n",
    "        self.W1 = np.random.randn(self.inputLayerSize,self.hiddenLayerSize)\n",
    "        self.W2 = np.random.randn(self.hiddenLayerSize,self.outputLayerSize)\n",
    "        # print (self.W1.shape,self.W2.shape)\n",
    "        \n",
    "    def forward(self, X):\n",
    "        #Propogate inputs though network\n",
    "        self.z2 = np.dot(X, self.W1)\n",
    "        self.a2 = self.sigmoid(self.z2)\n",
    "        self.z3 = np.dot(self.a2, self.W2)\n",
    "        yHat = self.sigmoid(self.z3) \n",
    "        # print ('z2',self.z2)\n",
    "        return yHat\n",
    "        \n",
    "    def sigmoid(self, z):\n",
    "        #Apply sigmoid activation function to scalar, vector, or matrix\n",
    "        return 1/(1+np.exp(-z))\n",
    "    \n",
    "    def sigmoidPrime(self,z):\n",
    "        #Gradient of sigmoid\n",
    "        return np.exp(-z)/((1+np.exp(-z))**2)\n",
    "    \n",
    "    def costFunction(self, X, y):\n",
    "        #Compute cost for given X,y, use weights already stored in class.\n",
    "        self.yHat = self.forward(X)\n",
    "        J = 0.5*sum((y-self.yHat)**2)\n",
    "        # print (J)\n",
    "        return J\n",
    "        \n",
    "    def costFunctionPrime(self, X, y):\n",
    "        #Compute derivative with respect to W and W2 for a given X and y:\n",
    "        self.yHat = self.forward(X)\n",
    "        # print('YHat',self.yHat)\n",
    "        delta3 = np.multiply(-(y-self.yHat), self.sigmoidPrime(self.z3))\n",
    "        # print('delta',delta3)\n",
    "        # print('delta.shape',delta3.shape)\n",
    "        # print('a2',self.a2.shape)\n",
    "        dJdW2 = np.dot(self.a2.T, delta3)\n",
    "        # print('Djdw',dJdW2)\n",
    "        \n",
    "        delta2 = np.float32(np.dot(delta3, self.W2.T)*self.sigmoidPrime(self.z2))\n",
    "        # print('delta2', delta2)\n",
    "        # print('delta2.shape:',delta2.shape)\n",
    "        # print('X.T.shape:',X.T.shape)\n",
    "\n",
    "        dJdW1 = np.dot(X.T, delta2)\n",
    "#         for ln in dJdW1:\n",
    "#             for el in ln:\n",
    "#                 if el >0:\n",
    "#                     print(el)\n",
    "        # dJdW1 = np.dot(2, delta2)\n",
    "        # dJdW1 = np.dot(X.T, 2)\n",
    "        # print (dJdW1,dJdW2)\n",
    "        # print('sigmoid.z2',self.sigmoidPrime(self.z2))\n",
    "        # print('W2.T',self.W2.T.shape)\n",
    "        # print('delta2',delta2.shape)\n",
    "        # print('X.T',X.T.shape)\n",
    "        return dJdW1, dJdW2\n",
    "    \n",
    "    def getParams(self):\n",
    "        #Get W1 and W2 unrolled into vector:\n",
    "        params = np.concatenate((self.W1.ravel(), self.W2.ravel()))\n",
    "        return params\n",
    "    \n",
    "    def setParams(self, params):\n",
    "        #Set W1 and W2 using single paramater vector.\n",
    "        W1_start = 0\n",
    "        W1_end = self.hiddenLayerSize * self.inputLayerSize\n",
    "        self.W1 = np.reshape(params[W1_start:W1_end], (self.inputLayerSize , self.hiddenLayerSize))\n",
    "        W2_end = W1_end + self.hiddenLayerSize*self.outputLayerSize\n",
    "        self.W2 = np.reshape(params[W1_end:W2_end], (self.hiddenLayerSize, self.outputLayerSize))\n",
    "        \n",
    "    def computeGradients(self, X, y):\n",
    "        dJdW1, dJdW2 = self.costFunctionPrime(X, y)\n",
    "        return np.concatenate((dJdW1.ravel(), dJdW2.ravel()))"
   ]
  },
  {
   "cell_type": "code",
   "execution_count": 696,
   "metadata": {
    "collapsed": true
   },
   "outputs": [],
   "source": [
    "NN = Neural_Network()"
   ]
  },
  {
   "cell_type": "code",
   "execution_count": 697,
   "metadata": {},
   "outputs": [
    {
     "data": {
      "text/plain": [
       "array([[ 0.29783168,  0.73420857,  0.8110336 ,  0.1943249 ,  0.71288   ,\n",
       "         0.76893265,  0.50502578,  0.84213458,  0.30499143,  0.18739249],\n",
       "       [ 0.92831858,  0.94763795,  0.22692663,  0.97775423,  0.94527111,\n",
       "         0.99181677,  0.7866672 ,  0.78774577,  0.06041613,  0.11041786],\n",
       "       [ 0.24912447,  0.63689408,  0.65955181,  0.9266936 ,  0.26099407,\n",
       "         0.75610231,  0.40940584,  0.35990974,  0.098398  ,  0.79992309],\n",
       "       [ 0.14129299,  0.25755717,  0.29512754,  0.21232832,  0.21265414,\n",
       "         0.75113815,  0.60655473,  0.84478534,  0.28069923,  0.95549912],\n",
       "       [ 0.24790739,  0.35411594,  0.88829895,  0.75784521,  0.36085092,\n",
       "         0.38206395,  0.36649839,  0.8166413 ,  0.64359448,  0.86936023]])"
      ]
     },
     "execution_count": 697,
     "metadata": {},
     "output_type": "execute_result"
    }
   ],
   "source": [
    "NN.forward(X)"
   ]
  },
  {
   "cell_type": "code",
   "execution_count": 698,
   "metadata": {
    "collapsed": true
   },
   "outputs": [],
   "source": [
    "cost1 = NN.costFunction(X,y.T)"
   ]
  },
  {
   "cell_type": "code",
   "execution_count": 699,
   "metadata": {},
   "outputs": [],
   "source": [
    "dJdW1, dJdW2 = NN.costFunctionPrime(X,y.T)"
   ]
  },
  {
   "cell_type": "code",
   "execution_count": 700,
   "metadata": {},
   "outputs": [
    {
     "name": "stdout",
     "output_type": "stream",
     "text": [
      "dJdW1 [[ 0.  0.  0. ...,  0.  0.  0.]\n",
      " [ 0.  0.  0. ...,  0.  0.  0.]\n",
      " [ 0.  0.  0. ...,  0.  0.  0.]\n",
      " ..., \n",
      " [ 0.  0.  0. ...,  0.  0.  0.]\n",
      " [ 0.  0.  0. ...,  0.  0.  0.]\n",
      " [ 0.  0.  0. ...,  0.  0.  0.]] dJdW2 [[  6.16729686e-02  -4.24124013e-03   1.99075517e-01   1.99973890e-01\n",
      "    1.58534827e-01   2.47706342e-01   3.68384647e-01   3.70232595e-01\n",
      "    2.08338000e-01   4.49974458e-02]\n",
      " [  1.22036699e-03   3.69031922e-02   5.53430515e-02   2.77850576e-02\n",
      "    6.22895360e-02   2.41200398e-02   1.58625699e-01   1.52993538e-01\n",
      "    1.47755743e-02   1.79133726e-02]\n",
      " [  9.93529040e-02   8.75999459e-02   2.35238231e-01   2.00246730e-01\n",
      "    1.06625062e-01   2.30976372e-01   2.74113273e-01   2.75281790e-01\n",
      "    2.15476688e-01   7.46560642e-02]\n",
      " [  7.85116276e-02   2.57808647e-01   2.57425237e-01   1.94734425e-01\n",
      "   -2.68497805e-02   2.18926822e-01   2.98033545e-01   3.11305870e-01\n",
      "    1.29833150e-01   1.26505583e-01]\n",
      " [  2.51700367e-02   1.00108592e-01   9.92687828e-02   9.46150566e-02\n",
      "    1.01362445e-01   5.46231908e-02   1.90979041e-01   2.06513642e-01\n",
      "    8.35673503e-02   9.79847118e-03]\n",
      " [  1.23977257e-01   1.80174785e-01   3.73842556e-01   2.62440222e-01\n",
      "    7.37001754e-02   3.56024903e-01   4.97244446e-01   4.78517503e-01\n",
      "    2.31955572e-01   1.72614402e-01]\n",
      " [  5.83955267e-02   1.83085994e-01   1.58098150e-01   4.84790747e-02\n",
      "    1.86047980e-01  -3.36360740e-02   2.37080666e-01   2.22494235e-01\n",
      "    6.74746272e-02   3.81249754e-02]\n",
      " [  1.53244432e-01   2.13233687e-01   4.04406083e-01   2.49233629e-01\n",
      "    1.06453594e-01   3.23596984e-01   4.74976439e-01   4.43891242e-01\n",
      "    2.45276693e-01   1.84494758e-01]\n",
      " [  1.39799546e-01   2.64858384e-01   3.97775790e-01   2.67319384e-01\n",
      "    1.09170791e-01   3.09796547e-01   4.97916893e-01   4.85587527e-01\n",
      "    2.41342399e-01   1.70027273e-01]\n",
      " [  1.68937692e-01   2.22501447e-01   4.15596653e-01   2.65287160e-01\n",
      "    1.14998097e-01   3.29979007e-01   4.49138942e-01   4.22256434e-01\n",
      "    2.73282250e-01   1.81254905e-01]\n",
      " [  6.39356513e-02   6.85011999e-03   2.10634210e-01   1.01671054e-01\n",
      "   -9.67264712e-02   2.78170860e-01   2.50910805e-01   2.02173229e-01\n",
      "    6.98429554e-02   1.65302430e-01]\n",
      " [  6.28600290e-02   1.68445580e-01   1.82209963e-01   6.13409169e-02\n",
      "    1.95898242e-01   3.43705929e-04   2.90413365e-01   2.68539248e-01\n",
      "    7.97206507e-02   5.25535904e-02]\n",
      " [  9.83405153e-03   2.26750178e-02   1.98591703e-02   5.02872525e-03\n",
      "    2.20147253e-02  -5.66679981e-03   2.00061053e-02   1.77328250e-02\n",
      "    1.01112261e-02   4.93597542e-03]\n",
      " [  3.35927589e-04  -1.46647130e-03   1.10044597e-03   6.80128934e-04\n",
      "    2.87988441e-04   2.08210730e-03   2.06511957e-03   1.64515089e-03\n",
      "    8.64101296e-04   7.10507902e-04]\n",
      " [  1.48182751e-01   1.75735076e-01   3.73658913e-01   2.49283037e-01\n",
      "    6.91826772e-02   3.36434753e-01   4.06538756e-01   3.82316040e-01\n",
      "    2.47308203e-01   1.72469595e-01]\n",
      " [  1.50281663e-01   2.16901524e-01   4.02264570e-01   2.63087612e-01\n",
      "    2.19499839e-01   2.83689320e-01   5.37444797e-01   5.15871505e-01\n",
      "    2.76840946e-01   1.44373475e-01]\n",
      " [  4.21629818e-02   1.90442537e-01   1.84879854e-01   8.25318993e-02\n",
      "   -9.47065532e-02   1.45839095e-01   2.22480017e-01   2.06088250e-01\n",
      "    1.23775509e-02   1.37318238e-01]\n",
      " [  9.30557024e-03   2.93557734e-02   2.95746243e-02   1.25741410e-02\n",
      "   -2.84372972e-02   2.78677368e-02   1.97974364e-02   1.65792099e-02\n",
      "    1.75826426e-03   2.55624989e-02]\n",
      " [  1.02901870e-01   1.26062431e-01   3.28863059e-01   2.48240076e-01\n",
      "    1.66350143e-02   3.70536989e-01   4.44389857e-01   4.29059431e-01\n",
      "    2.06906276e-01   1.64523923e-01]\n",
      " [  8.43871844e-03  -6.95406935e-02   3.02183391e-02   1.74634772e-02\n",
      "    1.73813529e-02   6.89683727e-02   7.10910858e-02   5.44114807e-02\n",
      "    2.78077858e-02   2.00142337e-02]]\n"
     ]
    }
   ],
   "source": [
    "print('dJdW1',dJdW1,'dJdW2',dJdW2)"
   ]
  },
  {
   "cell_type": "code",
   "execution_count": 701,
   "metadata": {},
   "outputs": [
    {
     "name": "stdout",
     "output_type": "stream",
     "text": [
      "0.20434152282\n"
     ]
    }
   ],
   "source": [
    "for i in range(0,10):\n",
    "    cost = NN.costFunction(X,y.T)\n",
    "    dJdW1, dJdW2 = NN.costFunctionPrime(X,y.T)\n",
    "    scalar = 3\n",
    "    NN.W1 = NN.W1 - scalar*dJdW1\n",
    "    NN.W2 = NN.W2 - scalar*dJdW2\n",
    "print(cost)"
   ]
  },
  {
   "cell_type": "code",
   "execution_count": 702,
   "metadata": {
    "scrolled": true
   },
   "outputs": [
    {
     "name": "stdout",
     "output_type": "stream",
     "text": [
      "[[ 0.01  0.12  0.01  0.    0.    0.91  0.    0.    0.01  0.02]\n",
      " [ 0.93  0.09  0.    0.    0.06  0.08  0.    0.    0.    0.  ]\n",
      " [ 0.02  0.12  0.    0.    0.92  0.    0.    0.    0.    0.02]\n",
      " [ 0.    0.79  0.    0.    0.06  0.    0.    0.    0.    0.05]\n",
      " [ 0.02  0.16  0.    0.    0.04  0.    0.    0.    0.    0.71]]\n",
      "[5, 0, 4, 1, 9]\n",
      "[5 0 4 1 9]\n"
     ]
    },
    {
     "data": {
      "text/plain": [
       "5"
      ]
     },
     "execution_count": 702,
     "metadata": {},
     "output_type": "execute_result"
    }
   ],
   "source": [
    "result=NN.forward(X)\n",
    "result=np.around(result, decimals = 2)\n",
    "print(result)\n",
    "# print(y.T)\n",
    "yarr=training[1][0:5]\n",
    "res=[np.argmax(i) for i in  result]\n",
    "print(res)\n",
    "print(yarr)\n",
    "# print(list(zip(res,yarr)))\n",
    "sum(int(x == y) for (x, y) in list(zip(res,yarr)))"
   ]
  },
  {
   "cell_type": "code",
   "execution_count": 703,
   "metadata": {},
   "outputs": [
    {
     "name": "stdout",
     "output_type": "stream",
     "text": [
      "[[-1.13724779  0.36115991  0.15163983 ..., -2.23574647  0.58348923\n",
      "  -0.46372796]\n",
      " [-0.2675969   0.12586074  2.27462729 ..., -1.00534145 -0.59189671\n",
      "   0.15829486]\n",
      " [-1.12952533  0.21603736  0.1304454  ...,  0.76148534  0.41425483\n",
      "   1.04249857]\n",
      " ..., \n",
      " [ 0.07904741 -0.49261582 -0.42973237 ...,  1.98929559  1.61752557\n",
      "   1.14404707]\n",
      " [-1.27256361  2.73648741 -0.56032951 ..., -0.56103906 -1.03119214\n",
      "   1.66642162]\n",
      " [-0.69957487  0.81426146  0.33320516 ...,  1.15161609  0.41547856\n",
      "  -0.00745021]]\n"
     ]
    }
   ],
   "source": [
    "print(NN.W1)"
   ]
  },
  {
   "cell_type": "code",
   "execution_count": 704,
   "metadata": {},
   "outputs": [
    {
     "name": "stdout",
     "output_type": "stream",
     "text": [
      "cost1: 9.14574061602 cost2: 6.40121241732\n"
     ]
    }
   ],
   "source": [
    "print ('cost1:',cost1,'cost2:',cost2)"
   ]
  },
  {
   "cell_type": "code",
   "execution_count": 705,
   "metadata": {},
   "outputs": [],
   "source": [
    "dJdW1, dJdW2 = NN.costFunctionPrime(X,y.T)\n",
    "NN.W1 = NN.W1 - scalar*dJdW1\n",
    "NN.W2 = NN.W2 - scalar*dJdW2\n",
    "#print ('NN.W1:',NN.W1,'NN.W2:',NN.W2)\n",
    "cost3 = NN.costFunction(X, y.T)"
   ]
  },
  {
   "cell_type": "code",
   "execution_count": 706,
   "metadata": {},
   "outputs": [
    {
     "name": "stdout",
     "output_type": "stream",
     "text": [
      "6.40121241732 0.0772056756005\n"
     ]
    }
   ],
   "source": [
    "print (cost2, cost3)"
   ]
  },
  {
   "cell_type": "code",
   "execution_count": 707,
   "metadata": {},
   "outputs": [],
   "source": [
    "dJdW1, dJdW2 = NN.costFunctionPrime(X,y.T)\n",
    "NN.W1 = NN.W1 - scalar*dJdW1\n",
    "NN.W2 = NN.W2 - scalar*dJdW2\n",
    "cost3 = NN.costFunction(X, y.T)"
   ]
  },
  {
   "cell_type": "code",
   "execution_count": 708,
   "metadata": {},
   "outputs": [
    {
     "name": "stdout",
     "output_type": "stream",
     "text": [
      "6.40121241732 0.0654015959906\n"
     ]
    }
   ],
   "source": [
    "print (cost2, cost3)"
   ]
  },
  {
   "cell_type": "code",
   "execution_count": 709,
   "metadata": {
    "collapsed": true
   },
   "outputs": [],
   "source": [
    "#from scipy import optimize"
   ]
  },
  {
   "cell_type": "code",
   "execution_count": 710,
   "metadata": {},
   "outputs": [
    {
     "data": {
      "text/plain": [
       "\"\\nclass trainer(object):\\n    def __init__(self, N):\\n        #Make Local reference to network:\\n        self.N = N\\n        \\n    def callbackF(self, params):\\n        self.N.setParams(params)\\n        self.J.append(self.N.costFunction(self.X, self.y))   \\n        \\n    def costFunctionWrapper(self, params, X, y):\\n        self.N.setParams(params)\\n        cost = self.N.costFunction(X, y)\\n        grad = self.N.computeGradients(X,y)\\n        \\n        return cost, grad\\n        \\n    def train(self, X, y):\\n        #Make an internal variable for the callback function:\\n        self.X = X\\n        self.y = y\\n\\n        #Make empty list to store costs:\\n        self.J = []\\n        \\n        params0 = self.N.getParams()\\n\\n        # Алгоритм оптимизации по методу BFGS (алгоритм оптимизации минимизации ошибки (поиск минимума))\\n        options = {'maxiter': 2, 'disp' : True}\\n        _res = optimize.minimize(self.costFunctionWrapper, params0, jac=True, method='BFGS',                                  args=(X, y), options=options, callback=self.callbackF)\\n\\n        self.N.setParams(_res.x)\\n        self.optimizationResults = _res\\n\""
      ]
     },
     "execution_count": 710,
     "metadata": {},
     "output_type": "execute_result"
    }
   ],
   "source": [
    "'''\n",
    "class trainer(object):\n",
    "    def __init__(self, N):\n",
    "        #Make Local reference to network:\n",
    "        self.N = N\n",
    "        \n",
    "    def callbackF(self, params):\n",
    "        self.N.setParams(params)\n",
    "        self.J.append(self.N.costFunction(self.X, self.y))   \n",
    "        \n",
    "    def costFunctionWrapper(self, params, X, y):\n",
    "        self.N.setParams(params)\n",
    "        cost = self.N.costFunction(X, y)\n",
    "        grad = self.N.computeGradients(X,y)\n",
    "        \n",
    "        return cost, grad\n",
    "        \n",
    "    def train(self, X, y):\n",
    "        #Make an internal variable for the callback function:\n",
    "        self.X = X\n",
    "        self.y = y\n",
    "\n",
    "        #Make empty list to store costs:\n",
    "        self.J = []\n",
    "        \n",
    "        params0 = self.N.getParams()\n",
    "\n",
    "        # Алгоритм оптимизации по методу BFGS (алгоритм оптимизации минимизации ошибки (поиск минимума))\n",
    "        options = {'maxiter': 2, 'disp' : True}\n",
    "        _res = optimize.minimize(self.costFunctionWrapper, params0, jac=True, method='BFGS', \\\n",
    "                                 args=(X, y), options=options, callback=self.callbackF)\n",
    "\n",
    "        self.N.setParams(_res.x)\n",
    "        self.optimizationResults = _res\n",
    "'''"
   ]
  },
  {
   "cell_type": "code",
   "execution_count": 711,
   "metadata": {
    "collapsed": true
   },
   "outputs": [],
   "source": [
    "#NN = Neural_Network()"
   ]
  },
  {
   "cell_type": "code",
   "execution_count": 712,
   "metadata": {
    "collapsed": true
   },
   "outputs": [],
   "source": [
    "#T = trainer(NN)"
   ]
  },
  {
   "cell_type": "code",
   "execution_count": 713,
   "metadata": {},
   "outputs": [],
   "source": [
    "#T.train(X,y.T)"
   ]
  },
  {
   "cell_type": "code",
   "execution_count": 714,
   "metadata": {
    "collapsed": true
   },
   "outputs": [],
   "source": [
    "#print(T.J)"
   ]
  },
  {
   "cell_type": "code",
   "execution_count": 715,
   "metadata": {
    "collapsed": true
   },
   "outputs": [],
   "source": [
    "# plot(T.J)\n",
    "# grid(1)\n",
    "# xlabel('Iterations')\n",
    "# ylabel('Cost')"
   ]
  },
  {
   "cell_type": "code",
   "execution_count": 716,
   "metadata": {
    "collapsed": true
   },
   "outputs": [],
   "source": [
    "#NN.costFunctionPrime(X,y)"
   ]
  },
  {
   "cell_type": "code",
   "execution_count": 717,
   "metadata": {
    "collapsed": true
   },
   "outputs": [],
   "source": [
    "#NN.forward(X)"
   ]
  },
  {
   "cell_type": "code",
   "execution_count": 718,
   "metadata": {
    "collapsed": true
   },
   "outputs": [],
   "source": [
    "#y"
   ]
  },
  {
   "cell_type": "code",
   "execution_count": 719,
   "metadata": {},
   "outputs": [
    {
     "data": {
      "text/plain": [
       "'\\n#Test network for various combinations of sleep/study:\\nhoursSleep = linspace(0, 10, 100)\\nhoursStudy = linspace(0, 5, 100)\\n\\n#Normalize data (same way training data way normalized)\\nhoursSleepNorm = hoursSleep/10.\\nhoursStudyNorm = hoursStudy/5.\\n\\n#Create 2-d versions of input for plotting\\na, b  = meshgrid(hoursSleepNorm, hoursStudyNorm)\\n\\n#Join into a single input matrix:\\nallInputs = np.zeros((a.size, 2))\\nallInputs[:, 0] = a.ravel()\\nallInputs[:, 1] = b.ravel()\\n'"
      ]
     },
     "execution_count": 719,
     "metadata": {},
     "output_type": "execute_result"
    }
   ],
   "source": [
    "'''\n",
    "#Test network for various combinations of sleep/study:\n",
    "hoursSleep = linspace(0, 10, 100)\n",
    "hoursStudy = linspace(0, 5, 100)\n",
    "\n",
    "#Normalize data (same way training data way normalized)\n",
    "hoursSleepNorm = hoursSleep/10.\n",
    "hoursStudyNorm = hoursStudy/5.\n",
    "\n",
    "#Create 2-d versions of input for plotting\n",
    "a, b  = meshgrid(hoursSleepNorm, hoursStudyNorm)\n",
    "\n",
    "#Join into a single input matrix:\n",
    "allInputs = np.zeros((a.size, 2))\n",
    "allInputs[:, 0] = a.ravel()\n",
    "allInputs[:, 1] = b.ravel()\n",
    "'''"
   ]
  },
  {
   "cell_type": "code",
   "execution_count": 720,
   "metadata": {
    "collapsed": true
   },
   "outputs": [],
   "source": [
    "#allOutputs = NN.forward(allInputs)"
   ]
  },
  {
   "cell_type": "code",
   "execution_count": 721,
   "metadata": {},
   "outputs": [
    {
     "data": {
      "text/plain": [
       "\"\\n#Contour Plot:\\nyy = np.dot(hoursStudy.reshape(100,1), np.ones((1,100)))\\nxx = np.dot(hoursSleep.reshape(100,1), np.ones((1,100))).T\\n\\nCS = contour(xx,yy,100*allOutputs.reshape(100, 100))\\nclabel(CS, inline=1, fontsize=10)\\nxlabel('Hours Sleep')\\nylabel('Hours Study')\\n\""
      ]
     },
     "execution_count": 721,
     "metadata": {},
     "output_type": "execute_result"
    }
   ],
   "source": [
    "'''\n",
    "#Contour Plot:\n",
    "yy = np.dot(hoursStudy.reshape(100,1), np.ones((1,100)))\n",
    "xx = np.dot(hoursSleep.reshape(100,1), np.ones((1,100))).T\n",
    "\n",
    "CS = contour(xx,yy,100*allOutputs.reshape(100, 100))\n",
    "clabel(CS, inline=1, fontsize=10)\n",
    "xlabel('Hours Sleep')\n",
    "ylabel('Hours Study')\n",
    "'''"
   ]
  },
  {
   "cell_type": "code",
   "execution_count": 722,
   "metadata": {},
   "outputs": [
    {
     "data": {
      "text/plain": [
       "\"\\n#3D plot:\\n\\n##Uncomment to plot out-of-notebook (you'll be able to rotate)\\n#%matplotlib qt\\n\\nfrom mpl_toolkits.mplot3d import Axes3D\\nfig = plt.figure()\\nax = fig.gca(projection='3d')\\n\\nsurf = ax.plot_surface(xx, yy, 100*allOutputs.reshape(100, 100),                        cmap=cm.jet)\\n\\nax.set_xlabel('Hours Sleep')\\nax.set_ylabel('Hours Study')\\nax.set_zlabel('Test Score')\\n\""
      ]
     },
     "execution_count": 722,
     "metadata": {},
     "output_type": "execute_result"
    }
   ],
   "source": [
    "'''\n",
    "#3D plot:\n",
    "\n",
    "##Uncomment to plot out-of-notebook (you'll be able to rotate)\n",
    "#%matplotlib qt\n",
    "\n",
    "from mpl_toolkits.mplot3d import Axes3D\n",
    "fig = plt.figure()\n",
    "ax = fig.gca(projection='3d')\n",
    "\n",
    "surf = ax.plot_surface(xx, yy, 100*allOutputs.reshape(100, 100), \\\n",
    "                       cmap=cm.jet)\n",
    "\n",
    "ax.set_xlabel('Hours Sleep')\n",
    "ax.set_ylabel('Hours Study')\n",
    "ax.set_zlabel('Test Score')\n",
    "'''"
   ]
  },
  {
   "cell_type": "code",
   "execution_count": null,
   "metadata": {
    "collapsed": true
   },
   "outputs": [],
   "source": []
  },
  {
   "cell_type": "code",
   "execution_count": null,
   "metadata": {
    "collapsed": true
   },
   "outputs": [],
   "source": []
  }
 ],
 "metadata": {
  "kernelspec": {
   "display_name": "Python 3",
   "language": "python",
   "name": "python3"
  },
  "language_info": {
   "codemirror_mode": {
    "name": "ipython",
    "version": 3
   },
   "file_extension": ".py",
   "mimetype": "text/x-python",
   "name": "python",
   "nbconvert_exporter": "python",
   "pygments_lexer": "ipython3",
   "version": "3.5.2"
  }
 },
 "nbformat": 4,
 "nbformat_minor": 2
}
