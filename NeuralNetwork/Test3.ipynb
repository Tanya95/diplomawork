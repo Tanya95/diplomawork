{
 "cells": [
  {
   "cell_type": "code",
   "execution_count": 12,
   "metadata": {},
   "outputs": [
    {
     "name": "stdout",
     "output_type": "stream",
     "text": [
      "Populating the interactive namespace from numpy and matplotlib\n"
     ]
    }
   ],
   "source": [
    "import pickle as cPickle\n",
    "import gzip\n",
    "\n",
    "import numpy as np\n",
    "%pylab inline \n",
    "import matplotlib.pyplot as pl\n",
    "\n",
    "from PIL import Image\n",
    "import PIL.ImageOps "
   ]
  },
  {
   "cell_type": "code",
   "execution_count": 13,
   "metadata": {},
   "outputs": [
    {
     "name": "stdout",
     "output_type": "stream",
     "text": [
      "['a', 'b', 'c', 'd', 'e', 'f', 'g', 'h', 'i', 'j', 'k', 'l', 'm', 'n', 'o', 'p', 'q', 'r', 's', 't', 'u', 'v', 'w', 'x', 'y', 'z']\n",
      "26\n"
     ]
    },
    {
     "data": {
      "text/plain": [
       "25"
      ]
     },
     "execution_count": 13,
     "metadata": {},
     "output_type": "execute_result"
    }
   ],
   "source": [
    "dirPath = 'ASL/signs/'\n",
    "import os\n",
    "signs = ''\n",
    "for f in os.listdir(dirPath):\n",
    "    fname = dirPath+f\n",
    "    base=os.path.basename(fname)\n",
    "    sign = os.path.splitext(base)[0]\n",
    "    signs += sign\n",
    "    pass\n",
    "signs = sorted(signs)\n",
    "print(signs)\n",
    "print(len(signs))\n",
    "signs.index('z')"
   ]
  },
  {
   "cell_type": "code",
   "execution_count": 27,
   "metadata": {},
   "outputs": [
    {
     "name": "stdout",
     "output_type": "stream",
     "text": [
      "(251, 250)\n",
      "0\n"
     ]
    },
    {
     "data": {
      "text/plain": [
       "<matplotlib.image.AxesImage at 0x7f3071ed5c18>"
      ]
     },
     "execution_count": 27,
     "metadata": {},
     "output_type": "execute_result"
    },
    {
     "data": {
      "image/png": "[encoded data removed]",
      "text/plain": [
       "<matplotlib.figure.Figure at 0x7f3071fb53c8>"
      ]
     },
     "metadata": {},
     "output_type": "display_data"
    }
   ],
   "source": [
    "im = Image.open('ASL/signs/z.jpg')\n",
    "im = PIL.ImageOps.invert(im)\n",
    "im = im.convert('1')\n",
    "im.save('result.png')\n",
    "(width, height) = im.size\n",
    "im.size\n",
    "print(im.size)\n",
    "px=im.getpixel((60, 95))\n",
    "print(px)\n",
    "\n",
    "imgB = np.asarray(im)\n",
    "imgB\n",
    "pl.imshow(imgB,cmap='Greys')"
   ]
  },
  {
   "cell_type": "code",
   "execution_count": null,
   "metadata": {
    "collapsed": true
   },
   "outputs": [],
   "source": [
    "def load_data():\n",
    "    '''\n",
    "    traning_data - массив из 50000 тренировочных примеров, \n",
    "    0 - элемент содержит массив массивов бит изображений\n",
    "    1 - соответствующий картинке номер\n",
    "    validation_data и test_data аналогичные, но содержат \n",
    "    по 10000 значений\n",
    "    '''\n",
    "    f = gzip.open('mnist.pkl.gz', 'rb')\n",
    "    training_data, validation_data, test_data = cPickle.load(f,encoding='latin1')\n",
    "    f.close()\n",
    "    return (training_data, validation_data, test_data)"
   ]
  },
  {
   "cell_type": "code",
   "execution_count": null,
   "metadata": {
    "collapsed": true
   },
   "outputs": [],
   "source": [
    "def vectorized_result(j):\n",
    "    e = np.zeros((10, 1))\n",
    "    e[j] = 1.0\n",
    "    return e"
   ]
  },
  {
   "cell_type": "code",
   "execution_count": null,
   "metadata": {
    "collapsed": true
   },
   "outputs": [],
   "source": [
    "def load_data_wrapper():\n",
    "    tr_d, va_d, te_d = load_data()\n",
    "    training_inputs = [np.reshape(x, (784, 1)) for x in tr_d[0]]\n",
    "    training_results = [vectorized_result(y) for y in tr_d[1]]\n",
    "    #print(training_inputs[0])\n",
    "    #print(training_results[0])\n",
    "    training_data = zip(training_inputs, training_results)\n",
    "    #print(training_data[0])\n",
    "    validation_inputs = [np.reshape(x, (784, 1)) for x in va_d[0]]\n",
    "    validation_data = zip(validation_inputs, va_d[1])\n",
    "    test_inputs = [np.reshape(x, (784, 1)) for x in te_d[0]]\n",
    "    test_zipped = zip(test_inputs, te_d[1])\n",
    "    # print(training_data, validation_data, test_zipped)\n",
    "    return (training_data, validation_data,test_zipped)"
   ]
  },
  {
   "cell_type": "code",
   "execution_count": null,
   "metadata": {
    "collapsed": true
   },
   "outputs": [],
   "source": [
    "# training, validation, test=load_data_wrapper()\n"
   ]
  },
  {
   "cell_type": "code",
   "execution_count": null,
   "metadata": {
    "collapsed": true
   },
   "outputs": [],
   "source": [
    "#trd = list(training)"
   ]
  },
  {
   "cell_type": "code",
   "execution_count": null,
   "metadata": {
    "collapsed": true
   },
   "outputs": [],
   "source": [
    "#print(len(trd))\n",
    "#print(trd[1:10][1])\n",
    "#nerobit = trd[0:2]\n",
    "#print(len(nerobit))\n",
    "#print(nerobit[0][0])\n",
    "\n",
    "#mini_batches =[trd[0:10]\n",
    "#                for k in range(0, n, 10)]"
   ]
  },
  {
   "cell_type": "code",
   "execution_count": null,
   "metadata": {
    "collapsed": true
   },
   "outputs": [],
   "source": [
    "def vectorized_result(j,size):\n",
    "    e = np.zeros((10, size))\n",
    "    print('size',size)\n",
    "    cnt=0\n",
    "    for i in j:\n",
    "        print('i:',i,'j:',j)\n",
    "        e[i][cnt] = 1.0\n",
    "        cnt+=1\n",
    "    return e"
   ]
  },
  {
   "cell_type": "code",
   "execution_count": null,
   "metadata": {},
   "outputs": [],
   "source": [
    "training, validation, test = load_data()\n",
    "Xdisplay = np.reshape(training[0][1],(28,28))\n",
    "y = vectorized_result(training[1][0:5],5)\n",
    "print(y)\n",
    "#print(training[1][0:10])\n",
    "pl.imshow(Xdisplay,cmap='Greys')\n",
    "pl.xlabel(('Number %d' % training[1][1]))  \n",
    "X = np.float32(training[0][0:5])#, dtype('float32')"
   ]
  },
  {
   "cell_type": "code",
   "execution_count": null,
   "metadata": {},
   "outputs": [],
   "source": [
    "print(X.T.shape)\n",
    "# b = np.dot(X.T,5)\n",
    "# for ln in b:\n",
    "#     for el in ln:\n",
    "#         if el >0:\n",
    "#             print(el)"
   ]
  },
  {
   "cell_type": "code",
   "execution_count": null,
   "metadata": {
    "collapsed": true
   },
   "outputs": [],
   "source": [
    "#testInput = np.arange(-6,6,0.01)\n",
    "#plot(testInput, sigmoid(testInput), linewidth= 2)\n",
    "#grid(1)"
   ]
  },
  {
   "cell_type": "code",
   "execution_count": null,
   "metadata": {
    "collapsed": true
   },
   "outputs": [],
   "source": [
    "#net = Neural_Network()"
   ]
  },
  {
   "cell_type": "code",
   "execution_count": null,
   "metadata": {
    "collapsed": true
   },
   "outputs": [],
   "source": [
    "#net.forward(X)"
   ]
  },
  {
   "cell_type": "code",
   "execution_count": null,
   "metadata": {
    "collapsed": true
   },
   "outputs": [],
   "source": [
    "class Neural_Network(object):\n",
    "    def __init__(self):        \n",
    "        #Define Hyperparameters\n",
    "        self.inputLayerSize = 28*28\n",
    "        self.outputLayerSize = 10\n",
    "        self.hiddenLayerSize = 20\n",
    "        \n",
    "        #Weights (parameters)\n",
    "        self.W1 = np.random.randn(self.inputLayerSize,self.hiddenLayerSize)\n",
    "        self.W2 = np.random.randn(self.hiddenLayerSize,self.outputLayerSize)\n",
    "        # print (self.W1.shape,self.W2.shape)\n",
    "        \n",
    "    def forward(self, X):\n",
    "        #Propogate inputs though network\n",
    "        self.z2 = np.dot(X, self.W1)\n",
    "        self.a2 = self.sigmoid(self.z2)\n",
    "        self.z3 = np.dot(self.a2, self.W2)\n",
    "        yHat = self.sigmoid(self.z3) \n",
    "        # print ('z2',self.z2)\n",
    "        return yHat\n",
    "        \n",
    "    def sigmoid(self, z):\n",
    "        #Apply sigmoid activation function to scalar, vector, or matrix\n",
    "        return 1/(1+np.exp(-z))\n",
    "    \n",
    "    def sigmoidPrime(self,z):\n",
    "        #Gradient of sigmoid\n",
    "        return np.exp(-z)/((1+np.exp(-z))**2)\n",
    "    \n",
    "    def costFunction(self, X, y):\n",
    "        #Compute cost for given X,y, use weights already stored in class.\n",
    "        self.yHat = self.forward(X)\n",
    "        J = 0.5*sum((y-self.yHat)**2)\n",
    "        # print (J)\n",
    "        return J\n",
    "        \n",
    "    def costFunctionPrime(self, X, y):\n",
    "        #Compute derivative with respect to W and W2 for a given X and y:\n",
    "        self.yHat = self.forward(X)\n",
    "        # print('YHat',self.yHat)\n",
    "        delta3 = np.multiply(-(y-self.yHat), self.sigmoidPrime(self.z3))\n",
    "        # print('delta',delta3)\n",
    "        # print('delta.shape',delta3.shape)\n",
    "        # print('a2',self.a2.shape)\n",
    "        dJdW2 = np.dot(self.a2.T, delta3)\n",
    "        # print('Djdw',dJdW2)\n",
    "        \n",
    "        delta2 = np.float32(np.dot(delta3, self.W2.T)*self.sigmoidPrime(self.z2))\n",
    "        # print('delta2', delta2)\n",
    "        # print('delta2.shape:',delta2.shape)\n",
    "        # print('X.T.shape:',X.T.shape)\n",
    "\n",
    "        dJdW1 = np.dot(X.T, delta2)\n",
    "#         for ln in dJdW1:\n",
    "#             for el in ln:\n",
    "#                 if el >0:\n",
    "#                     print(el)\n",
    "        # dJdW1 = np.dot(2, delta2)\n",
    "        # dJdW1 = np.dot(X.T, 2)\n",
    "        # print (dJdW1,dJdW2)\n",
    "        # print('sigmoid.z2',self.sigmoidPrime(self.z2))\n",
    "        # print('W2.T',self.W2.T.shape)\n",
    "        # print('delta2',delta2.shape)\n",
    "        # print('X.T',X.T.shape)\n",
    "        return dJdW1, dJdW2\n",
    "    \n",
    "    def getParams(self):\n",
    "        #Get W1 and W2 unrolled into vector:\n",
    "        params = np.concatenate((self.W1.ravel(), self.W2.ravel()))\n",
    "        return params\n",
    "    \n",
    "    def setParams(self, params):\n",
    "        #Set W1 and W2 using single paramater vector.\n",
    "        W1_start = 0\n",
    "        W1_end = self.hiddenLayerSize * self.inputLayerSize\n",
    "        self.W1 = np.reshape(params[W1_start:W1_end], (self.inputLayerSize , self.hiddenLayerSize))\n",
    "        W2_end = W1_end + self.hiddenLayerSize*self.outputLayerSize\n",
    "        self.W2 = np.reshape(params[W1_end:W2_end], (self.hiddenLayerSize, self.outputLayerSize))\n",
    "        \n",
    "    def computeGradients(self, X, y):\n",
    "        dJdW1, dJdW2 = self.costFunctionPrime(X, y)\n",
    "        return np.concatenate((dJdW1.ravel(), dJdW2.ravel()))"
   ]
  },
  {
   "cell_type": "code",
   "execution_count": null,
   "metadata": {
    "collapsed": true
   },
   "outputs": [],
   "source": [
    "NN = Neural_Network()"
   ]
  },
  {
   "cell_type": "code",
   "execution_count": null,
   "metadata": {},
   "outputs": [],
   "source": [
    "NN.forward(X)"
   ]
  },
  {
   "cell_type": "code",
   "execution_count": null,
   "metadata": {
    "collapsed": true
   },
   "outputs": [],
   "source": [
    "cost1 = NN.costFunction(X,y.T)"
   ]
  },
  {
   "cell_type": "code",
   "execution_count": null,
   "metadata": {
    "collapsed": true
   },
   "outputs": [],
   "source": [
    "dJdW1, dJdW2 = NN.costFunctionPrime(X,y.T)"
   ]
  },
  {
   "cell_type": "code",
   "execution_count": null,
   "metadata": {},
   "outputs": [],
   "source": [
    "print('dJdW1',dJdW1,'dJdW2',dJdW2)"
   ]
  },
  {
   "cell_type": "code",
   "execution_count": null,
   "metadata": {},
   "outputs": [],
   "source": [
    "costarr=[]\n",
    "for i in range(0,10):\n",
    "    cost = NN.costFunction(X,y.T)\n",
    "    costarr.append(cost)\n",
    "    dJdW1, dJdW2 = NN.costFunctionPrime(X,y.T)\n",
    "    scalar = 3\n",
    "    NN.W1 = NN.W1 - scalar*dJdW1\n",
    "    NN.W2 = NN.W2 - scalar*dJdW2\n",
    "print(costarr)"
   ]
  },
  {
   "cell_type": "code",
   "execution_count": null,
   "metadata": {
    "scrolled": true
   },
   "outputs": [],
   "source": [
    "result=NN.forward(X)\n",
    "result=np.around(result, decimals = 2)\n",
    "print(result)\n",
    "# print(y.T)\n",
    "yarr=training[1][0:5]\n",
    "res=[np.argmax(i) for i in  result]\n",
    "print(res)\n",
    "print(yarr)\n",
    "# print(list(zip(res,yarr)))\n",
    "sum(int(x == y) for (x, y) in list(zip(res,yarr)))"
   ]
  },
  {
   "cell_type": "code",
   "execution_count": null,
   "metadata": {},
   "outputs": [],
   "source": [
    "plot(costarr)\n",
    "grid(1)\n",
    "xlabel('Iterations')\n",
    "ylabel('Cost')"
   ]
  }
 ],
 "metadata": {
  "kernelspec": {
   "display_name": "Python 3",
   "language": "python",
   "name": "python3"
  },
  "language_info": {
   "codemirror_mode": {
    "name": "ipython",
    "version": 3
   },
   "file_extension": ".py",
   "mimetype": "text/x-python",
   "name": "python",
   "nbconvert_exporter": "python",
   "pygments_lexer": "ipython3",
   "version": "3.5.2"
  }
 },
 "nbformat": 4,
 "nbformat_minor": 2
}
