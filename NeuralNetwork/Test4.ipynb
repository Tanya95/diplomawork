{
 "cells": [
  {
   "cell_type": "code",
   "execution_count": 26,
   "metadata": {},
   "outputs": [
    {
     "name": "stdout",
     "output_type": "stream",
     "text": [
      "Populating the interactive namespace from numpy and matplotlib\n"
     ]
    },
    {
     "name": "stderr",
     "output_type": "stream",
     "text": [
      "/opt/conda/lib/python3.5/site-packages/IPython/core/magics/pylab.py:161: UserWarning: pylab import has clobbered these variables: ['f', 'sign']\n",
      "`%matplotlib` prevents importing * from pylab and numpy\n",
      "  \"\\n`%matplotlib` prevents importing * from pylab and numpy\"\n"
     ]
    }
   ],
   "source": [
    "import pickle as cPickle\n",
    "import gzip\n",
    "\n",
    "import numpy as np\n",
    "%pylab inline \n",
    "import matplotlib.pyplot as pl\n",
    "\n",
    "from PIL import Image\n",
    "import PIL.ImageOps "
   ]
  },
  {
   "cell_type": "code",
   "execution_count": 27,
   "metadata": {},
   "outputs": [
    {
     "name": "stdout",
     "output_type": "stream",
     "text": [
      "250 250\n"
     ]
    }
   ],
   "source": [
    "dirPath = 'ASL/signs/'\n",
    "import os\n",
    "signs = ''\n",
    "trainingX = []\n",
    "trainingY = []\n",
    "training = []\n",
    "for f in os.listdir(dirPath):\n",
    "    fname = dirPath+f\n",
    "    base=os.path.basename(fname)\n",
    "    sign = os.path.splitext(base)[0]\n",
    "    \n",
    "    im = Image.open(fname)\n",
    "    im = PIL.ImageOps.invert(im)\n",
    "    im = im.convert('1')\n",
    "    im = im.crop((0, 0, 250, 250))\n",
    "#    im = im.resize((100,100),Image.ANTIALIAS)\n",
    "    (width, height) = im.size\n",
    "    # print(im.size)\n",
    "    imgB = np.asarray(im).reshape(-1)\n",
    "    #imgB\n",
    "    #pl.imshow(imgB,cmap='Greys')  \n",
    "    trainingX.append(imgB)\n",
    "    trainingY.append(sign)\n",
    "#     training.append((np.array(sign),np.array(imgB)))\n",
    "    signs += sign\n",
    "    pass\n",
    "signs = sorted(signs)\n",
    "# print(signs)\n",
    "# print(len(signs))\n",
    "signs.index('z')\n",
    "print(width,height)\n",
    "# for im in imgB:\n",
    "#     print(im)\n",
    "# print(imgB)\n",
    "# training = np.array(training)     \n",
    "training.append(trainingX)\n",
    "training.append(trainingY)\n",
    "# print(training[1][0:5])\n",
    "# training.T\n",
    "# training = np.matrix(trainingX,trainingY)"
   ]
  },
  {
   "cell_type": "code",
   "execution_count": 28,
   "metadata": {},
   "outputs": [
    {
     "name": "stdout",
     "output_type": "stream",
     "text": [
      "(251, 250)\n",
      "0\n"
     ]
    },
    {
     "data": {
      "text/plain": [
       "<matplotlib.image.AxesImage at 0x7fc001f220f0>"
      ]
     },
     "execution_count": 28,
     "metadata": {},
     "output_type": "execute_result"
    },
    {
     "data": {
      "image/png": "[encoded data removed]",
      "text/plain": [
       "<matplotlib.figure.Figure at 0x7fc001fbe1d0>"
      ]
     },
     "metadata": {},
     "output_type": "display_data"
    }
   ],
   "source": [
    "im = Image.open('ASL/signs/z.jpg')\n",
    "im = PIL.ImageOps.invert(im)\n",
    "im = im.convert('1')\n",
    "# im.save('result.png')\n",
    "(width, height) = im.size\n",
    "im.size\n",
    "print(im.size)\n",
    "px=im.getpixel((60, 95))\n",
    "print(px)\n",
    "\n",
    "imgB = np.asarray(im)\n",
    "imgB\n",
    "pl.imshow(imgB,cmap='Greys')"
   ]
  },
  {
   "cell_type": "code",
   "execution_count": 29,
   "metadata": {
    "collapsed": true
   },
   "outputs": [],
   "source": [
    "def load_data():\n",
    "    '''\n",
    "    traning_data - массив из 50000 тренировочных примеров, \n",
    "    0 - элемент содержит массив массивов бит изображений\n",
    "    1 - соответствующий картинке номер\n",
    "    validation_data и test_data аналогичные, но содержат \n",
    "    по 10000 значений\n",
    "    '''\n",
    "    f = gzip.open('mnist.pkl.gz', 'rb')\n",
    "    training_data, validation_data, test_data = cPickle.load(f,encoding='latin1')\n",
    "    f.close()\n",
    "    return (training_data, validation_data, test_data)"
   ]
  },
  {
   "cell_type": "code",
   "execution_count": 30,
   "metadata": {
    "collapsed": true
   },
   "outputs": [],
   "source": [
    "def vectorized_result(j):\n",
    "    e = np.zeros((10, 1))\n",
    "    e[j] = 1.0\n",
    "    return e"
   ]
  },
  {
   "cell_type": "code",
   "execution_count": 31,
   "metadata": {
    "collapsed": true
   },
   "outputs": [],
   "source": [
    "def load_data_wrapper():\n",
    "    tr_d, va_d, te_d = load_data()\n",
    "    training_inputs = [np.reshape(x, (784, 1)) for x in tr_d[0]]\n",
    "    training_results = [vectorized_result(y) for y in tr_d[1]]\n",
    "    #print(training_inputs[0])\n",
    "    #print(training_results[0])\n",
    "    training_data = zip(training_inputs, training_results)\n",
    "    #print(training_data[0])\n",
    "    validation_inputs = [np.reshape(x, (784, 1)) for x in va_d[0]]\n",
    "    validation_data = zip(validation_inputs, va_d[1])\n",
    "    test_inputs = [np.reshape(x, (784, 1)) for x in te_d[0]]\n",
    "    test_zipped = zip(test_inputs, te_d[1])\n",
    "    # print(training_data, validation_data, test_zipped)\n",
    "    return (training_data, validation_data,test_zipped)"
   ]
  },
  {
   "cell_type": "code",
   "execution_count": 32,
   "metadata": {
    "collapsed": true
   },
   "outputs": [],
   "source": [
    "# training, validation, test=load_data_wrapper()\n"
   ]
  },
  {
   "cell_type": "code",
   "execution_count": 33,
   "metadata": {
    "collapsed": true
   },
   "outputs": [],
   "source": [
    "#trd = list(training)"
   ]
  },
  {
   "cell_type": "code",
   "execution_count": 34,
   "metadata": {
    "collapsed": true
   },
   "outputs": [],
   "source": [
    "#print(len(trd))\n",
    "#print(trd[1:10][1])\n",
    "#nerobit = trd[0:2]\n",
    "#print(len(nerobit))\n",
    "#print(nerobit[0][0])\n",
    "\n",
    "#mini_batches =[trd[0:10]\n",
    "#                for k in range(0, n, 10)]"
   ]
  },
  {
   "cell_type": "code",
   "execution_count": 35,
   "metadata": {
    "collapsed": true
   },
   "outputs": [],
   "source": [
    "def vectorized_result(j,size):\n",
    "    e = np.zeros((26, size))\n",
    "    print('j:',j)\n",
    "    print('size',size)\n",
    "    cnt=0\n",
    "    for i in j:\n",
    "#         print('i:',i,'j:',j)\n",
    "#         print('i:',i)\n",
    "        idx = signs.index(i)\n",
    "#         print('i:',idx)\n",
    "        e[idx][cnt] = 1.0\n",
    "        cnt+=1\n",
    "    return e"
   ]
  },
  {
   "cell_type": "code",
   "execution_count": 36,
   "metadata": {},
   "outputs": [
    {
     "name": "stdout",
     "output_type": "stream",
     "text": [
      "j: ['z', 's', 'd', 'm', 'n']\n",
      "size 5\n"
     ]
    },
    {
     "data": {
      "image/png": "[encoded data removed]",
      "text/plain": [
       "<matplotlib.figure.Figure at 0x7fc001f3fbe0>"
      ]
     },
     "metadata": {},
     "output_type": "display_data"
    }
   ],
   "source": [
    "# training, validation, test = load_data()\n",
    "# print(training[0][1])\n",
    "# print(training[0][0])\n",
    "# print(training)\n",
    "# print(training[0][0])\n",
    "# print(training)\n",
    "Xdisplay = np.reshape(training[0][1],(250,250))\n",
    "# print(Xdisplay)\n",
    "# print(training.__class__.__name__)\n",
    "# print(training[1][0:3])\n",
    "y = vectorized_result(training[1][0:5],5)\n",
    "# print(y)\n",
    "#print(training[1][0:10])\n",
    "pl.imshow(Xdisplay,cmap='Greys')\n",
    "# pl.xlabel(('Number %d' % training[1][1]))  \n",
    "X = np.float32(training[0][0:5])#, dtype('float32')"
   ]
  },
  {
   "cell_type": "code",
   "execution_count": 37,
   "metadata": {
    "collapsed": true
   },
   "outputs": [],
   "source": [
    "# print(X.T.shape)\n",
    "# b = np.dot(X.T,5)\n",
    "# for ln in b:\n",
    "#     for el in ln:\n",
    "#         if el >0:\n",
    "#             print(el)"
   ]
  },
  {
   "cell_type": "code",
   "execution_count": 38,
   "metadata": {
    "collapsed": true
   },
   "outputs": [],
   "source": [
    "#testInput = np.arange(-6,6,0.01)\n",
    "#plot(testInput, sigmoid(testInput), linewidth= 2)\n",
    "#grid(1)"
   ]
  },
  {
   "cell_type": "code",
   "execution_count": 39,
   "metadata": {
    "collapsed": true
   },
   "outputs": [],
   "source": [
    "#net = Neural_Network()"
   ]
  },
  {
   "cell_type": "code",
   "execution_count": 40,
   "metadata": {
    "collapsed": true
   },
   "outputs": [],
   "source": [
    "#net.forward(X)"
   ]
  },
  {
   "cell_type": "code",
   "execution_count": 41,
   "metadata": {
    "collapsed": true
   },
   "outputs": [],
   "source": [
    "class Neural_Network(object):\n",
    "    def __init__(self):        \n",
    "        #Define Hyperparameters\n",
    "        self.inputLayerSize = 250*250\n",
    "        self.outputLayerSize = 26\n",
    "        self.hiddenLayerSize = 20\n",
    "        \n",
    "        #Weights (parameters)\n",
    "        self.W1 = np.random.randn(self.inputLayerSize,self.hiddenLayerSize)\n",
    "        self.W2 = np.random.randn(self.hiddenLayerSize,self.outputLayerSize)\n",
    "        # print (self.W1.shape,self.W2.shape)\n",
    "        \n",
    "    def forward(self, X):\n",
    "        #Propogate inputs though network\n",
    "        self.z2 = np.dot(X, self.W1)\n",
    "        self.a2 = self.sigmoid(self.z2)\n",
    "        self.z3 = np.dot(self.a2, self.W2)\n",
    "        yHat = self.sigmoid(self.z3) \n",
    "        # print ('z2',self.z2)\n",
    "        return yHat\n",
    "        \n",
    "    def sigmoid(self, z):\n",
    "        #Apply sigmoid activation function to scalar, vector, or matrix\n",
    "        return 1/(1+np.exp(-z))\n",
    "    \n",
    "    def sigmoidPrime(self,z):\n",
    "        #Gradient of sigmoid\n",
    "        return np.exp(-z)/((1+np.exp(-z))**2)\n",
    "    \n",
    "    def costFunction(self, X, y):\n",
    "        #Compute cost for given X,y, use weights already stored in class.\n",
    "        self.yHat = self.forward(X)\n",
    "        J = 0.5*sum((y-self.yHat)**2)\n",
    "        # print (J)\n",
    "        return J\n",
    "        \n",
    "    def costFunctionPrime(self, X, y):\n",
    "        #Compute derivative with respect to W and W2 for a given X and y:\n",
    "        self.yHat = self.forward(X)\n",
    "        # print('YHat',self.yHat)\n",
    "        delta3 = np.multiply(-(y-self.yHat), self.sigmoidPrime(self.z3))\n",
    "        # print('delta',delta3)\n",
    "        # print('delta.shape',delta3.shape)\n",
    "        # print('a2',self.a2.shape)\n",
    "        dJdW2 = np.dot(self.a2.T, delta3)\n",
    "        # print('Djdw',dJdW2)\n",
    "        \n",
    "        delta2 = np.float32(np.dot(delta3, self.W2.T)*self.sigmoidPrime(self.z2))\n",
    "        # print('delta2', delta2)\n",
    "        # print('delta2.shape:',delta2.shape)\n",
    "        # print('X.T.shape:',X.T.shape)\n",
    "\n",
    "        dJdW1 = np.dot(X.T, delta2)\n",
    "#         for ln in dJdW1:\n",
    "#             for el in ln:\n",
    "#                 if el >0:\n",
    "#                     print(el)\n",
    "        # dJdW1 = np.dot(2, delta2)\n",
    "        # dJdW1 = np.dot(X.T, 2)\n",
    "        # print (dJdW1,dJdW2)\n",
    "        # print('sigmoid.z2',self.sigmoidPrime(self.z2))\n",
    "        # print('W2.T',self.W2.T.shape)\n",
    "        # print('delta2',delta2.shape)\n",
    "        # print('X.T',X.T.shape)\n",
    "        return dJdW1, dJdW2\n",
    "    \n",
    "    def getParams(self):\n",
    "        #Get W1 and W2 unrolled into vector:\n",
    "        params = np.concatenate((self.W1.ravel(), self.W2.ravel()))\n",
    "        return params\n",
    "    \n",
    "    def setParams(self, params):\n",
    "        #Set W1 and W2 using single paramater vector.\n",
    "        W1_start = 0\n",
    "        W1_end = self.hiddenLayerSize * self.inputLayerSize\n",
    "        self.W1 = np.reshape(params[W1_start:W1_end], (self.inputLayerSize , self.hiddenLayerSize))\n",
    "        W2_end = W1_end + self.hiddenLayerSize*self.outputLayerSize\n",
    "        self.W2 = np.reshape(params[W1_end:W2_end], (self.hiddenLayerSize, self.outputLayerSize))\n",
    "        \n",
    "    def computeGradients(self, X, y):\n",
    "        dJdW1, dJdW2 = self.costFunctionPrime(X, y)\n",
    "        return np.concatenate((dJdW1.ravel(), dJdW2.ravel()))"
   ]
  },
  {
   "cell_type": "code",
   "execution_count": 42,
   "metadata": {
    "collapsed": true
   },
   "outputs": [],
   "source": [
    "NN = Neural_Network()"
   ]
  },
  {
   "cell_type": "code",
   "execution_count": 43,
   "metadata": {},
   "outputs": [
    {
     "name": "stderr",
     "output_type": "stream",
     "text": [
      "/opt/conda/lib/python3.5/site-packages/ipykernel_launcher.py:24: RuntimeWarning: overflow encountered in exp\n"
     ]
    },
    {
     "data": {
      "text/plain": [
       "array([[  8.06941426e-01,   8.60089358e-01,   9.93926508e-01,\n",
       "          9.99890826e-01,   5.47248336e-01,   4.57749881e-01,\n",
       "          5.97876062e-01,   9.30655172e-01,   3.40252725e-02,\n",
       "          8.97901662e-01,   2.55162176e-02,   9.84832346e-01,\n",
       "          1.91576937e-04,   1.26965096e-02,   4.12137431e-01,\n",
       "          7.73388230e-01,   8.25470651e-01,   4.15866459e-02,\n",
       "          4.44269897e-01,   3.13991097e-01,   7.11189664e-01,\n",
       "          1.73998853e-02,   3.17591122e-02,   3.03736519e-02,\n",
       "          9.59761275e-01,   8.52277274e-01],\n",
       "       [  9.76092338e-01,   8.49113006e-01,   5.65820976e-01,\n",
       "          9.98796983e-01,   4.85418445e-01,   6.86955721e-02,\n",
       "          5.10524144e-01,   9.21470397e-01,   1.06951200e-02,\n",
       "          9.88479873e-01,   1.77705520e-03,   8.95716576e-01,\n",
       "          2.07326881e-06,   2.35344431e-01,   1.40041302e-01,\n",
       "          9.67366549e-01,   9.51936096e-01,   1.37579911e-02,\n",
       "          8.68457920e-01,   9.81342107e-02,   5.74979802e-01,\n",
       "          1.82782337e-01,   1.80835320e-02,   3.18361128e-01,\n",
       "          7.70249466e-01,   9.58988440e-01],\n",
       "       [  9.88410673e-01,   8.66750990e-01,   9.60296384e-01,\n",
       "          9.96067013e-01,   8.95628542e-01,   1.17393135e-02,\n",
       "          1.55118883e-01,   4.08469247e-01,   9.76839701e-01,\n",
       "          2.03514796e-01,   1.95527725e-02,   6.13240874e-01,\n",
       "          2.01058489e-03,   6.37716550e-01,   1.52397533e-01,\n",
       "          9.70551659e-01,   9.98137088e-01,   4.50910519e-03,\n",
       "          7.65489812e-01,   2.56632060e-02,   6.83991178e-01,\n",
       "          9.24437217e-02,   9.32172893e-02,   4.01878994e-02,\n",
       "          2.74415165e-01,   3.69407741e-01],\n",
       "       [  9.36713627e-01,   9.82449712e-01,   4.37367547e-01,\n",
       "          9.74556192e-01,   7.91439477e-01,   8.46229663e-01,\n",
       "          9.38283076e-01,   9.80262466e-01,   3.30465187e-03,\n",
       "          9.23008913e-01,   9.65565779e-03,   8.08350195e-01,\n",
       "          1.50191421e-05,   3.64618752e-01,   8.06270041e-01,\n",
       "          9.78507390e-01,   9.27359713e-01,   2.69112315e-01,\n",
       "          9.17163777e-01,   1.35922107e-02,   7.01966304e-01,\n",
       "          7.12323740e-02,   3.80262882e-02,   1.88061903e-01,\n",
       "          8.40275500e-01,   9.70184891e-01],\n",
       "       [  8.46604015e-01,   6.69301243e-01,   3.33273131e-01,\n",
       "          9.86183985e-01,   4.86830039e-01,   1.13359868e-01,\n",
       "          9.28022306e-01,   9.60730942e-01,   2.73795616e-03,\n",
       "          9.25778898e-01,   3.69860989e-04,   9.00542830e-01,\n",
       "          5.28740133e-06,   1.20301617e-01,   6.56917371e-01,\n",
       "          9.87582966e-01,   8.64518700e-01,   1.12216261e-02,\n",
       "          4.87622758e-01,   2.51782653e-02,   6.21725600e-01,\n",
       "          2.98689127e-01,   2.05099424e-02,   1.13414380e-01,\n",
       "          6.08628808e-01,   9.78552753e-01]])"
      ]
     },
     "execution_count": 43,
     "metadata": {},
     "output_type": "execute_result"
    }
   ],
   "source": [
    "NN.forward(X)"
   ]
  },
  {
   "cell_type": "code",
   "execution_count": 44,
   "metadata": {},
   "outputs": [
    {
     "name": "stderr",
     "output_type": "stream",
     "text": [
      "/opt/conda/lib/python3.5/site-packages/ipykernel_launcher.py:24: RuntimeWarning: overflow encountered in exp\n"
     ]
    }
   ],
   "source": [
    "cost1 = NN.costFunction(X,y.T)"
   ]
  },
  {
   "cell_type": "code",
   "execution_count": 45,
   "metadata": {},
   "outputs": [
    {
     "name": "stderr",
     "output_type": "stream",
     "text": [
      "/opt/conda/lib/python3.5/site-packages/ipykernel_launcher.py:24: RuntimeWarning: overflow encountered in exp\n",
      "/opt/conda/lib/python3.5/site-packages/ipykernel_launcher.py:28: RuntimeWarning: overflow encountered in exp\n",
      "/opt/conda/lib/python3.5/site-packages/ipykernel_launcher.py:28: RuntimeWarning: invalid value encountered in true_divide\n"
     ]
    }
   ],
   "source": [
    "dJdW1, dJdW2 = NN.costFunctionPrime(X,y.T)"
   ]
  },
  {
   "cell_type": "code",
   "execution_count": 46,
   "metadata": {},
   "outputs": [
    {
     "name": "stdout",
     "output_type": "stream",
     "text": [
      "dJdW1 [[ nan  nan  nan ...,  nan  nan   0.]\n",
      " [ nan  nan  nan ...,  nan  nan   0.]\n",
      " [ nan  nan  nan ...,  nan  nan   0.]\n",
      " ..., \n",
      " [ nan  nan  nan ...,  nan  nan   0.]\n",
      " [ nan  nan  nan ...,  nan  nan   0.]\n",
      " [ nan  nan  nan ...,  nan  nan   0.]] dJdW2 [[  3.13963428e-01   3.77368724e-01   3.26683999e-01   3.89116676e-02\n",
      "    5.09102274e-01   2.39524641e-01   3.87639083e-01   1.81952545e-01\n",
      "    1.24985020e-03   2.22775337e-01   7.30084904e-04   3.04265728e-01\n",
      "   -1.49819640e-05   3.38853376e-02   3.90710191e-01   1.98770728e-01\n",
      "    3.26207349e-01   5.49006545e-02   2.86172377e-01   7.71193779e-02\n",
      "    5.79667338e-01   9.48804260e-02   3.10075092e-03   1.10101267e-01\n",
      "    4.31123735e-01   6.77191210e-02]\n",
      " [  1.13222586e-02   1.00104289e-01   3.66134494e-02  -1.54075520e-05\n",
      "    8.37216157e-02   1.36193669e-04   2.03294179e-02   9.86952059e-02\n",
      "    2.20999229e-02   3.29890409e-02   3.74835673e-04   1.45446327e-01\n",
      "    4.03432393e-06   1.47334302e-01   1.96855742e-02   2.77394690e-02\n",
      "    1.85597792e-03   2.02403503e-05   1.37417026e-01   6.41698350e-04\n",
      "    1.47842810e-01   7.75583227e-03   7.87945484e-03   1.55016110e-03\n",
      "    5.46392102e-02   8.60519308e-02]\n",
      " [  1.37033211e-01   2.03603704e-01   4.26133904e-02   9.37427116e-05\n",
      "    2.19312020e-01   1.13756547e-01   1.64070946e-01   1.58756083e-01\n",
      "    2.32182503e-02   1.15303518e-01   1.00930000e-03   1.60157355e-01\n",
      "    4.07101862e-06   1.47493457e-01   1.19538301e-01   1.63282621e-01\n",
      "    1.20780590e-01   1.67776748e-03   2.47104667e-01   6.82755967e-02\n",
      "    2.93920403e-01   8.05332036e-03   8.85606250e-03   2.44469835e-03\n",
      "    9.17047782e-02   6.74535330e-02]\n",
      " [  1.21267045e-01   2.48245478e-01   1.10667456e-01   1.34214805e-02\n",
      "    2.05344686e-01   1.15299270e-02   8.23184359e-02   1.34940702e-01\n",
      "    2.21073988e-02   9.66014657e-02   3.74972419e-04   2.26103843e-01\n",
      "    4.03435188e-06   5.42365808e-02   1.67739600e-01   3.98500521e-02\n",
      "    1.03113697e-01   1.44752160e-04   2.59248013e-01   1.25968176e-03\n",
      "    2.94062026e-01   7.03234182e-02   8.29148492e-03   1.29541538e-02\n",
      "    1.99614460e-01   1.06589075e-01]\n",
      " [  1.25710952e-01   1.03499415e-01   5.99994108e-03   1.09150264e-04\n",
      "    1.35590404e-01   1.13620354e-01   1.43741528e-01   6.00608767e-02\n",
      "    1.11832746e-03   8.23144773e-02   6.34464330e-04   1.47110279e-02\n",
      "    3.66946918e-08   1.59154662e-04   9.98527266e-02   1.35543152e-01\n",
      "    1.18924612e-01   1.65752713e-03   1.09687641e-01   6.76338983e-02\n",
      "    1.46077593e-01   2.97488088e-04   9.76607657e-04   8.94537252e-04\n",
      "    3.70655680e-02  -1.85983978e-02]\n",
      " [  3.25285687e-01   4.77473012e-01   3.63297448e-01   3.88962601e-02\n",
      "    5.92823890e-01   2.39660834e-01   4.07968501e-01   2.80647751e-01\n",
      "    2.33497731e-02   2.55764378e-01   1.10492058e-03   4.49712054e-01\n",
      "   -1.09476401e-05   1.81219640e-01   4.10395766e-01   2.26510197e-01\n",
      "    3.28063327e-01   5.49208948e-02   4.23589402e-01   7.77610763e-02\n",
      "    7.27510148e-01   1.02636258e-01   1.09802058e-02   1.11651428e-01\n",
      "    4.85762945e-01   1.53771052e-01]\n",
      " [  3.13963428e-01   3.77368724e-01   3.26683999e-01   3.89116676e-02\n",
      "    5.09102274e-01   2.39524641e-01   3.87639083e-01   1.81952545e-01\n",
      "    1.24985020e-03   2.22775337e-01   7.30084904e-04   3.04265728e-01\n",
      "   -1.49819640e-05   3.38853376e-02   3.90710191e-01   1.98770728e-01\n",
      "    3.26207349e-01   5.49006545e-02   2.86172377e-01   7.71193779e-02\n",
      "    5.79667338e-01   9.48804260e-02   3.10075092e-03   1.10101267e-01\n",
      "    4.31123735e-01   6.77191210e-02]\n",
      " [  0.00000000e+00   0.00000000e+00   0.00000000e+00   0.00000000e+00\n",
      "    0.00000000e+00   0.00000000e+00   0.00000000e+00   0.00000000e+00\n",
      "    0.00000000e+00   0.00000000e+00   0.00000000e+00   0.00000000e+00\n",
      "    0.00000000e+00   0.00000000e+00   0.00000000e+00   0.00000000e+00\n",
      "    0.00000000e+00   0.00000000e+00   0.00000000e+00   0.00000000e+00\n",
      "    0.00000000e+00   0.00000000e+00   0.00000000e+00   0.00000000e+00\n",
      "    0.00000000e+00   0.00000000e+00]\n",
      " [  3.25285687e-01   4.77473012e-01   3.63297448e-01   3.88962601e-02\n",
      "    5.92823890e-01   2.39660834e-01   4.07968501e-01   2.80647751e-01\n",
      "    2.33497731e-02   2.55764378e-01   1.10492058e-03   4.49712054e-01\n",
      "   -1.09476401e-05   1.81219640e-01   4.10395766e-01   2.26510197e-01\n",
      "    3.28063327e-01   5.49208948e-02   4.23589402e-01   7.77610763e-02\n",
      "    7.27510148e-01   1.02636258e-01   1.09802058e-02   1.11651428e-01\n",
      "    4.85762945e-01   1.53771052e-01]\n",
      " [  0.00000000e+00   0.00000000e+00   0.00000000e+00   0.00000000e+00\n",
      "    0.00000000e+00   0.00000000e+00   0.00000000e+00   0.00000000e+00\n",
      "    0.00000000e+00   0.00000000e+00   0.00000000e+00   0.00000000e+00\n",
      "    0.00000000e+00   0.00000000e+00   0.00000000e+00   0.00000000e+00\n",
      "    0.00000000e+00   0.00000000e+00   0.00000000e+00   0.00000000e+00\n",
      "    0.00000000e+00   0.00000000e+00   0.00000000e+00   0.00000000e+00\n",
      "    0.00000000e+00   0.00000000e+00]\n",
      " [  1.13222586e-02   1.00104289e-01   3.66134494e-02  -1.54075520e-05\n",
      "    8.37216157e-02   1.36193669e-04   2.03294179e-02   9.86952059e-02\n",
      "    2.20999229e-02   3.29890409e-02   3.74835673e-04   1.45446327e-01\n",
      "    4.03432393e-06   1.47334302e-01   1.96855742e-02   2.77394690e-02\n",
      "    1.85597792e-03   2.02403503e-05   1.37417026e-01   6.41698350e-04\n",
      "    1.47842810e-01   7.75583227e-03   7.87945484e-03   1.55016110e-03\n",
      "    5.46392102e-02   8.60519308e-02]\n",
      " [  1.88252476e-01   2.73869308e-01   3.20684058e-01   3.88025174e-02\n",
      "    3.73511870e-01   1.25904287e-01   2.43897555e-01   1.21891668e-01\n",
      "    1.31522737e-04   1.40460860e-01   9.56205737e-05   2.89554700e-01\n",
      "   -1.50186587e-05   3.37261829e-02   2.90857465e-01   6.32275760e-02\n",
      "    2.07282738e-01   5.32431273e-02   1.76484735e-01   9.48547959e-03\n",
      "    4.33589745e-01   9.45829379e-02   2.12414327e-03   1.09206729e-01\n",
      "    3.94058167e-01   8.63175188e-02]\n",
      " [  3.41004326e-02   2.08892740e-01   1.75617330e-01   1.18471651e-03\n",
      "    2.04973016e-01   4.53109528e-03   1.47903909e-01   1.65375296e-01\n",
      "    2.22130851e-02   4.42452697e-02   3.77987986e-04   2.29113771e-01\n",
      "    4.03432823e-06   1.89686281e-01   3.65507112e-02   5.82777884e-02\n",
      "    4.54106382e-02   2.06918524e-04   1.22389822e-01   9.32695748e-03\n",
      "    2.88355241e-01   3.50585699e-02   8.20055540e-03   7.06368564e-02\n",
      "    1.90946581e-01   1.23768574e-01]\n",
      " [  2.27781740e-02   1.08788451e-01   1.39003881e-01   1.20012407e-03\n",
      "    1.21251401e-01   4.39490161e-03   1.27574492e-01   6.66800897e-02\n",
      "    1.13162223e-04   1.12562288e-02   3.15231337e-06   8.36674445e-02\n",
      "    4.29843467e-12   4.23519791e-02   1.68651370e-02   3.05383194e-02\n",
      "    4.35546603e-02   1.86678173e-04  -1.50272042e-02   8.68525913e-03\n",
      "    1.40512431e-01   2.73027376e-02   3.21100559e-04   6.90866954e-02\n",
      "    1.36307371e-01   3.77166432e-02]\n",
      " [  3.13963428e-01   3.77368724e-01   3.26683999e-01   3.89116676e-02\n",
      "    5.09102274e-01   2.39524641e-01   3.87639083e-01   1.81952545e-01\n",
      "    1.24985020e-03   2.22775337e-01   7.30084904e-04   3.04265728e-01\n",
      "   -1.49819640e-05   3.38853376e-02   3.90710191e-01   1.98770728e-01\n",
      "    3.26207349e-01   5.49006545e-02   2.86172377e-01   7.71193779e-02\n",
      "    5.79667338e-01   9.48804260e-02   3.10075092e-03   1.10101267e-01\n",
      "    4.31123735e-01   6.77191210e-02]\n",
      " [  3.25285687e-01   4.77473012e-01   3.63297448e-01   3.88962601e-02\n",
      "    5.92823890e-01   2.39660834e-01   4.07968501e-01   2.80647751e-01\n",
      "    2.33497731e-02   2.55764378e-01   1.10492058e-03   4.49712054e-01\n",
      "   -1.09476401e-05   1.81219640e-01   4.10395766e-01   2.26510197e-01\n",
      "    3.28063327e-01   5.49208948e-02   4.23589402e-01   7.77610763e-02\n",
      "    7.27510148e-01   1.02636258e-01   1.09802058e-02   1.11651428e-01\n",
      "    4.85762945e-01   1.53771052e-01]\n",
      " [  1.44045219e-01   3.57033929e-01   2.49671337e-01   1.46216045e-02\n",
      "    3.26596087e-01   1.59248286e-02   2.09892927e-01   2.01620791e-01\n",
      "    2.22205610e-02   1.07857695e-01   3.78124733e-04   3.09771287e-01\n",
      "    4.03435618e-06   9.65885598e-02   1.84604737e-01   7.03883716e-02\n",
      "    1.46668357e-01   3.31430333e-04   2.44220809e-01   9.94494089e-03\n",
      "    4.34574457e-01   9.76261558e-02   8.61258548e-03   8.20408491e-02\n",
      "    3.35921830e-01   1.44305718e-01]\n",
      " [  5.55295153e-02   1.69396686e-02   1.07626171e-01   2.41655053e-02\n",
      "    1.30637399e-01   1.10115652e-01   5.43340453e-02   1.89660827e-02\n",
      "    1.08846348e-05   6.55922065e-02   9.23315137e-05   1.25229739e-01\n",
      "   -1.50186910e-05   8.44719254e-02   1.25938302e-01   2.05786735e-02\n",
      "    6.24703586e-02   5.29319373e-02   6.96809522e-02   1.82237056e-04\n",
      "    1.46858098e-01   4.71261440e-03   1.39101263e-03   2.87160414e-02\n",
      "    1.12775546e-01   2.80637316e-02]\n",
      " [  1.99574734e-01   3.73973597e-01   3.57297507e-01   3.87871098e-02\n",
      "    4.57233486e-01   1.26040481e-01   2.64226973e-01   2.20586874e-01\n",
      "    2.22314456e-02   1.73449901e-01   4.70456247e-04   4.35001027e-01\n",
      "   -1.09843348e-05   1.81060485e-01   3.10543039e-01   9.09670451e-02\n",
      "    2.09138716e-01   5.32633677e-02   3.13901761e-01   1.01271779e-02\n",
      "    5.81432555e-01   1.02338770e-01   1.00035981e-02   1.10756891e-01\n",
      "    4.48697377e-01   1.72369450e-01]\n",
      " [  3.25285687e-01   4.77473012e-01   3.63297448e-01   3.88962601e-02\n",
      "    5.92823890e-01   2.39660834e-01   4.07968501e-01   2.80647751e-01\n",
      "    2.33497731e-02   2.55764378e-01   1.10492058e-03   4.49712054e-01\n",
      "   -1.09476401e-05   1.81219640e-01   4.10395766e-01   2.26510197e-01\n",
      "    3.28063327e-01   5.49208948e-02   4.23589402e-01   7.77610763e-02\n",
      "    7.27510148e-01   1.02636258e-01   1.09802058e-02   1.11651428e-01\n",
      "    4.85762945e-01   1.53771052e-01]]\n"
     ]
    }
   ],
   "source": [
    "print('dJdW1',dJdW1,'dJdW2',dJdW2)"
   ]
  },
  {
   "cell_type": "code",
   "execution_count": 47,
   "metadata": {},
   "outputs": [
    {
     "name": "stderr",
     "output_type": "stream",
     "text": [
      "/opt/conda/lib/python3.5/site-packages/ipykernel_launcher.py:24: RuntimeWarning: overflow encountered in exp\n",
      "/opt/conda/lib/python3.5/site-packages/ipykernel_launcher.py:28: RuntimeWarning: overflow encountered in exp\n",
      "/opt/conda/lib/python3.5/site-packages/ipykernel_launcher.py:28: RuntimeWarning: invalid value encountered in true_divide\n"
     ]
    },
    {
     "name": "stdout",
     "output_type": "stream",
     "text": [
      "[27.051726682996172, nan, nan, nan, nan, nan, nan, nan, nan, nan, nan, nan, nan, nan, nan, nan, nan, nan, nan, nan, nan, nan, nan, nan, nan, nan, nan, nan, nan, nan, nan, nan, nan, nan, nan, nan, nan, nan, nan, nan, nan, nan, nan, nan, nan, nan, nan, nan, nan, nan]\n"
     ]
    }
   ],
   "source": [
    "costarr=[]\n",
    "for i in range(0,50):\n",
    "    cost = NN.costFunction(X,y.T)\n",
    "    costarr.append(cost)\n",
    "    dJdW1, dJdW2 = NN.costFunctionPrime(X,y.T)\n",
    "    scalar = 2\n",
    "    NN.W1 = NN.W1 - scalar*dJdW1\n",
    "    NN.W2 = NN.W2 - scalar*dJdW2\n",
    "print(costarr)"
   ]
  },
  {
   "cell_type": "code",
   "execution_count": 48,
   "metadata": {
    "scrolled": true
   },
   "outputs": [
    {
     "name": "stdout",
     "output_type": "stream",
     "text": [
      "[[ nan  nan  nan  nan  nan  nan  nan  nan  nan  nan  nan  nan  nan  nan\n",
      "   nan  nan  nan  nan  nan  nan  nan  nan  nan  nan  nan  nan]\n",
      " [ nan  nan  nan  nan  nan  nan  nan  nan  nan  nan  nan  nan  nan  nan\n",
      "   nan  nan  nan  nan  nan  nan  nan  nan  nan  nan  nan  nan]\n",
      " [ nan  nan  nan  nan  nan  nan  nan  nan  nan  nan  nan  nan  nan  nan\n",
      "   nan  nan  nan  nan  nan  nan  nan  nan  nan  nan  nan  nan]\n",
      " [ nan  nan  nan  nan  nan  nan  nan  nan  nan  nan  nan  nan  nan  nan\n",
      "   nan  nan  nan  nan  nan  nan  nan  nan  nan  nan  nan  nan]\n",
      " [ nan  nan  nan  nan  nan  nan  nan  nan  nan  nan  nan  nan  nan  nan\n",
      "   nan  nan  nan  nan  nan  nan  nan  nan  nan  nan  nan  nan]]\n",
      "['a', 'a', 'a', 'a', 'a']\n",
      "yarr ['z', 's', 'd', 'm', 'n']\n"
     ]
    },
    {
     "data": {
      "text/plain": [
       "0"
      ]
     },
     "execution_count": 48,
     "metadata": {},
     "output_type": "execute_result"
    }
   ],
   "source": [
    "result=NN.forward(X)\n",
    "result=np.around(result, decimals = 2)\n",
    "print(result)\n",
    "# print(y.T)\n",
    "yarr=training[1][0:5]\n",
    "res=[np.argmax(i) for i in  result]\n",
    "# print('res',res)\n",
    "print([signs[sign] for sign in res])\n",
    "print('yarr',yarr)\n",
    "# print(list(zip(res,yarr)))\n",
    "sum(int(x == y) for (x, y) in list(zip(res,yarr)))"
   ]
  },
  {
   "cell_type": "code",
   "execution_count": 49,
   "metadata": {},
   "outputs": [
    {
     "data": {
      "text/plain": [
       "<matplotlib.text.Text at 0x7fc001eb32b0>"
      ]
     },
     "execution_count": 49,
     "metadata": {},
     "output_type": "execute_result"
    },
    {
     "data": {
      "image/png": "[encoded data removed]",
      "text/plain": [
       "<matplotlib.figure.Figure at 0x7fc001f0cb38>"
      ]
     },
     "metadata": {},
     "output_type": "display_data"
    }
   ],
   "source": [
    "plot(costarr)\n",
    "grid(1)\n",
    "xlabel('Iterations')\n",
    "ylabel('Cost')"
   ]
  }
 ],
 "metadata": {
  "kernelspec": {
   "display_name": "Python 3",
   "language": "python",
   "name": "python3"
  },
  "language_info": {
   "codemirror_mode": {
    "name": "ipython",
    "version": 3
   },
   "file_extension": ".py",
   "mimetype": "text/x-python",
   "name": "python",
   "nbconvert_exporter": "python",
   "pygments_lexer": "ipython3",
   "version": "3.5.2"
  }
 },
 "nbformat": 4,
 "nbformat_minor": 2
}
