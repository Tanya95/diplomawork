{
 "cells": [
  {
   "cell_type": "code",
   "execution_count": 1,
   "metadata": {},
   "outputs": [
    {
     "name": "stdout",
     "output_type": "stream",
     "text": [
      "Populating the interactive namespace from numpy and matplotlib\n"
     ]
    }
   ],
   "source": [
    "import pickle as cPickle\n",
    "import gzip\n",
    "#import random\n",
    "\n",
    "import numpy as np\n",
    "%pylab inline \n",
    "import matplotlib.pyplot as pl\n",
    "#import pylab as pl # библиотека для построения графиков"
   ]
  },
  {
   "cell_type": "code",
   "execution_count": 2,
   "metadata": {
    "collapsed": true
   },
   "outputs": [],
   "source": [
    "def load_data():\n",
    "    '''\n",
    "    traning_data - массив из 50000 тренировочных примеров, \n",
    "    0 - элемент содержит массив массивов бит изображений\n",
    "    1 - соответствующий картинке номер\n",
    "    validation_data и test_data аналогичные, но содержат \n",
    "    по 10000 значений\n",
    "    '''\n",
    "    f = gzip.open('./data/mnist.pkl.gz', 'rb')\n",
    "    training_data, validation_data, test_data = cPickle.load(f,encoding='latin1')\n",
    "    f.close()\n",
    "    return (training_data, validation_data, test_data)"
   ]
  },
  {
   "cell_type": "code",
   "execution_count": 3,
   "metadata": {
    "collapsed": true
   },
   "outputs": [],
   "source": [
    "training, validation, test = load_data()"
   ]
  },
  {
   "cell_type": "code",
   "execution_count": 4,
   "metadata": {},
   "outputs": [
    {
     "data": {
      "text/plain": [
       "<matplotlib.text.Text at 0x7f3f87aa9a90>"
      ]
     },
     "execution_count": 4,
     "metadata": {},
     "output_type": "execute_result"
    },
    {
     "data": {
      "image/png": "[encoded data removed]",
      "text/plain": [
       "<matplotlib.figure.Figure at 0x7f3f881169b0>"
      ]
     },
     "metadata": {},
     "output_type": "display_data"
    }
   ],
   "source": [
    "test = np.reshape(training[0][0],(28,28))\n",
    "pl.imshow(test,cmap='Greys')\n",
    "pl.xlabel(('Number %d' % training[1][0]))"
   ]
  },
  {
   "cell_type": "code",
   "execution_count": 5,
   "metadata": {},
   "outputs": [
    {
     "data": {
      "text/plain": [
       "<matplotlib.text.Text at 0x7f3f87ab2358>"
      ]
     },
     "execution_count": 5,
     "metadata": {},
     "output_type": "execute_result"
    },
    {
     "data": {
      "image/png": "[encoded data removed]",
      "text/plain": [
       "<matplotlib.figure.Figure at 0x7f3f87df1198>"
      ]
     },
     "metadata": {},
     "output_type": "display_data"
    }
   ],
   "source": [
    "test = np.reshape(training[0][1],(28,28))\n",
    "pl.imshow(test,cmap='Greys')\n",
    "pl.xlabel(('Number %d' % training[1][1]))"
   ]
  },
  {
   "cell_type": "code",
   "execution_count": 6,
   "metadata": {},
   "outputs": [
    {
     "data": {
      "text/plain": [
       "<matplotlib.text.Text at 0x7f3f86095d30>"
      ]
     },
     "execution_count": 6,
     "metadata": {},
     "output_type": "execute_result"
    },
    {
     "data": {
      "image/png": "[encoded data removed]",
      "text/plain": [
       "<matplotlib.figure.Figure at 0x7f3f87e67470>"
      ]
     },
     "metadata": {},
     "output_type": "display_data"
    }
   ],
   "source": [
    "test = np.reshape(training[0][4],(28,28))\n",
    "pl.imshow(test,cmap='Greys')\n",
    "pl.xlabel(('Number %d' % training[1][4]))"
   ]
  },
  {
   "cell_type": "code",
   "execution_count": 7,
   "metadata": {
    "collapsed": true
   },
   "outputs": [],
   "source": [
    "def vectorized_result(j):\n",
    "    e = np.zeros((10, 1))\n",
    "    e[j] = 1.0\n",
    "    return e"
   ]
  },
  {
   "cell_type": "code",
   "execution_count": 8,
   "metadata": {
    "collapsed": true
   },
   "outputs": [],
   "source": [
    "def load_data_wrapper():\n",
    "    tr_d, va_d, te_d = load_data()\n",
    "    training_inputs = [np.reshape(x, (784, 1)) for x in tr_d[0]]\n",
    "    training_results = [vectorized_result(y) for y in tr_d[1]]\n",
    "    training_data = zip(training_inputs, training_results)\n",
    "    validation_inputs = [np.reshape(x, (784, 1)) for x in va_d[0]]\n",
    "    validation_data = zip(validation_inputs, va_d[1])\n",
    "    test_inputs = [np.reshape(x, (784, 1)) for x in te_d[0]]\n",
    "    test_zipped = zip(test_inputs, te_d[1])\n",
    "    return (training_data, validation_data,test_zipped)"
   ]
  },
  {
   "cell_type": "code",
   "execution_count": 9,
   "metadata": {
    "collapsed": true
   },
   "outputs": [],
   "source": [
    "def sigmoid(z):\n",
    "    \"\"\"Вычисление сигмоидальной функции\"\"\"\n",
    "    return 1.0/(1.0+np.exp(-z))\n",
    "\n",
    "def sigmoid_prime(z):\n",
    "    \"\"\"Производная сигмоидальной функции\"\"\"\n",
    "    return sigmoid(z)*(1-sigmoid(z))"
   ]
  },
  {
   "cell_type": "code",
   "execution_count": 10,
   "metadata": {
    "collapsed": true
   },
   "outputs": [],
   "source": [
    "class Network(object):\n",
    "\n",
    "    def __init__(self, sizes):\n",
    "        \"\"\"sizez - список, содержащий число нейронов \n",
    "        на различных слоях сети. \n",
    "        К примеру, если size=[2, 3, 1], то будет создана \n",
    "        трехслойная сеть. С первым слоем из двух нейронов, вторым слоем 3\n",
    "        И одним выходным нейроном. Веса генерируются случайным образом.\n",
    "        Первый слой является входным, поэтому к нему не устанавливается \n",
    "        порог активации (bias)\n",
    "        \"\"\"\n",
    "        self.num_layers = len(sizes) # число слоев\n",
    "        self.sizes = sizes \n",
    "        self.biases = [np.random.randn(y, 1) for y in sizes[1:]]\n",
    "        self.weights = [np.random.randn(y, x)\n",
    "                        for x, y in zip(sizes[:-1], sizes[1:])]\n",
    "        \n",
    "    def feedforward(self, a):\n",
    "        \"\"\"Осуществляет прямое распространение сигнала\n",
    "            через все слои\n",
    "        \"\"\"\n",
    "        for b, w in zip(self.biases, self.weights): \n",
    "            a = sigmoid(np.dot(w, a)+b)\n",
    "        return a\n",
    "    \n",
    "    def SGD(self, training_data, epochs, mini_batch_size, eta, test_data=None):\n",
    "        \"\"\"\n",
    "        Реализация стохастического градиентного спуска\n",
    "        ``training_data`` это список пар ``(x, y)``,\n",
    "        представляющих вход и желаемый выход\n",
    "        ``epochs`` - число эпох обучения (сколько итераций \n",
    "        происходит при обучении)\n",
    "        \"\"\"\n",
    "        if test_data: \n",
    "            n_test = len(test_data)\n",
    "        n = len(training_data)\n",
    "        for j in range(epochs):\n",
    "            # Для всех итераций обучения (эпох)\n",
    "            # перемешиваем данные, чтобы порядок в каждой эпохе\n",
    "            # был разным\n",
    "            random.shuffle(training_data)\n",
    "            # разбиваем обучающую выборку на более мелкие участки\n",
    "            mini_batches = [\n",
    "                training_data[k:k+mini_batch_size]\n",
    "                for k in range(0, n, mini_batch_size)]\n",
    "            # для каждого участка\n",
    "            for mini_batch in mini_batches:               \n",
    "                # осуществляем градиентный спуск\n",
    "                self.update_mini_batch(mini_batch, eta)\n",
    "            \n",
    "            if test_data:\n",
    "                # если тестовые данные переданы, то на каждом шаге\n",
    "                # запустим вычисление и оценим качество распознавания\n",
    "                prop=self.evaluate(test_data)\n",
    "                print (\"Эпоха обучения {0}: {1} / {2} , {3}%\".format(j, prop, n_test,prop*100/n_test))\n",
    "            else:\n",
    "                print(\"Обучение закончено\".format(j))    \n",
    "    \n",
    "    def update_mini_batch(self, mini_batch, eta):\n",
    "        \"\"\"Обновляем веса и коэффициенты активации (biases),\n",
    "        применяя градиентный спуск к каждой обучающей выборке (mini batch)\n",
    "        используя обратное распространение ошибке.\n",
    "        ``mini_batch`` список пар входа и выхода ``(x, y)``, а ``eta``\n",
    "        коэффициент скорости обучения.\"\"\"\n",
    "        nabla_b = [np.zeros(b.shape) for b in self.biases]\n",
    "        nabla_w = [np.zeros(w.shape) for w in self.weights]\n",
    "        for x, y in mini_batch:\n",
    "            delta_nabla_b, delta_nabla_w = self.backprop(x, y)\n",
    "            nabla_b = [nb+dnb for nb, dnb in zip(nabla_b, delta_nabla_b)]\n",
    "            nabla_w = [nw+dnw for nw, dnw in zip(nabla_w, delta_nabla_w)]\n",
    "        self.weights = [w-(eta/len(mini_batch))*nw\n",
    "                        for w, nw in zip(self.weights, nabla_w)]\n",
    "        self.biases = [b-(eta/len(mini_batch))*nb\n",
    "                       for b, nb in zip(self.biases, nabla_b)]\n",
    "        \n",
    "    def backprop(self, x, y):\n",
    "        \"\"\"Return a tuple ``(nabla_b, nabla_w)`` representing the\n",
    "        gradient for the cost function C_x.  ``nabla_b`` and\n",
    "        ``nabla_w`` are layer-by-layer lists of numpy arrays, similar\n",
    "        to ``self.biases`` and ``self.weights``.\"\"\"\n",
    "        nabla_b = [np.zeros(b.shape) for b in self.biases]\n",
    "        nabla_w = [np.zeros(w.shape) for w in self.weights]\n",
    "        # feedforward\n",
    "        activation = x\n",
    "        activations = [x] # list to store all the activations, layer by layer\n",
    "        zs = [] # list to store all the z vectors, layer by layer\n",
    "        for b, w in zip(self.biases, self.weights):\n",
    "            z = np.dot(w, activation)+b\n",
    "            zs.append(z)\n",
    "            activation = sigmoid(z)\n",
    "            activations.append(activation)\n",
    "        # backward pass\n",
    "        delta = self.cost_derivative(activations[-1], y) * \\\n",
    "            sigmoid_prime(zs[-1])\n",
    "        nabla_b[-1] = delta\n",
    "        nabla_w[-1] = np.dot(delta, activations[-2].transpose())\n",
    "        # Note that the variable l in the loop below is used a little\n",
    "        # differently to the notation in Chapter 2 of the book.  Here,\n",
    "        # l = 1 means the last layer of neurons, l = 2 is the\n",
    "        # second-last layer, and so on.  It's a renumbering of the\n",
    "        # scheme in the book, used here to take advantage of the fact\n",
    "        # that Python can use negative indices in lists.\n",
    "        for l in range(2, self.num_layers):\n",
    "            z = zs[-l]\n",
    "            sp = sigmoid_prime(z)\n",
    "            delta = np.dot(self.weights[-l+1].transpose(), delta) * sp\n",
    "            nabla_b[-l] = delta\n",
    "            nabla_w[-l] = np.dot(delta, activations[-l-1].transpose())\n",
    "        return (nabla_b, nabla_w)\n",
    "\n",
    "    def evaluate(self, test_data):\n",
    "        \"\"\"Возвращаем количество тестовых результатов,\n",
    "        для которых наша сеть нашла верный ответ \n",
    "        (наивысший уровень активации, поскольку у нас \n",
    "        на выходе массив в каждом из которыхможет присуствовать значение \n",
    "        от 0 до 1.\n",
    "        \"\"\"\n",
    "        # как обычно используем генератор списков\n",
    "        # каждую пару x,y забираем из тестовых данных\n",
    "        # прогоняем в прямом направлении (веса у нас к\n",
    "        # этому моменту настроены)\n",
    "        # определяем индекс максимального элемента и записываем \n",
    "        # в список\n",
    "        test_results = [(np.argmax(self.feedforward(x)), y)\n",
    "                        for (x, y) in test_data]\n",
    "        # Перебираем все результаты\n",
    "        # и суммируем число совпадений\n",
    "        return sum(int(x == y) for (x, y) in test_results)\n",
    "\n",
    "    def cost_derivative(self, output_activations, y):\n",
    "        \"\"\"Return the vector of partial derivatives \\partial C_x /\n",
    "        \\partial a for the output activations.\"\"\"\n",
    "        return (output_activations-y)\n"
   ]
  },
  {
   "cell_type": "code",
   "execution_count": 13,
   "metadata": {},
   "outputs": [
    {
     "name": "stdout",
     "output_type": "stream",
     "text": [
      "Эпоха обучения 0: 8677 / 10000 , 86.77%\n",
      "Эпоха обучения 1: 8895 / 10000 , 88.95%\n",
      "Эпоха обучения 2: 9003 / 10000 , 90.03%\n",
      "Эпоха обучения 3: 9051 / 10000 , 90.51%\n",
      "Эпоха обучения 4: 9037 / 10000 , 90.37%\n",
      "Эпоха обучения 5: 9069 / 10000 , 90.69%\n",
      "Эпоха обучения 6: 9084 / 10000 , 90.84%\n",
      "Эпоха обучения 7: 9077 / 10000 , 90.77%\n",
      "Эпоха обучения 8: 9090 / 10000 , 90.9%\n",
      "Эпоха обучения 9: 9179 / 10000 , 91.79%\n"
     ]
    }
   ],
   "source": [
    "(training_data,validation_data,tst_data)=load_data_wrapper()\n",
    "net = Network([784, 10, 10])\n",
    "trd=list(training_data)\n",
    "vd=list(validation_data)\n",
    "td = list(tst_data)\n",
    "net.SGD(trd, epochs=10, mini_batch_size=10, eta=3.0, test_data=td)"
   ]
  },
  {
   "cell_type": "code",
   "execution_count": 12,
   "metadata": {},
   "outputs": [
    {
     "name": "stdout",
     "output_type": "stream",
     "text": [
      "10000\n",
      "[1, 2, 3, 4, 5, 6, 7, 8, 9, 10]\n",
      "\n"
     ]
    },
    {
     "data": {
      "text/plain": [
       "55"
      ]
     },
     "execution_count": 12,
     "metadata": {},
     "output_type": "execute_result"
    }
   ],
   "source": [
    "print(len(td))\n",
    "tmp = [(np.argmax(td[1], y) for (x, y) in td)]\n",
    "a=[x+1 for x in range(0,10)]\n",
    "print(a)\n",
    "x=[0,0.3,0]\n",
    "y=[0,1,0]\n",
    "print()\n",
    "sum(a)"
   ]
  }
 ],
 "metadata": {
  "kernelspec": {
   "display_name": "Python 3",
   "language": "python",
   "name": "python3"
  },
  "language_info": {
   "codemirror_mode": {
    "name": "ipython",
    "version": 3
   },
   "file_extension": ".py",
   "mimetype": "text/x-python",
   "name": "python",
   "nbconvert_exporter": "python",
   "pygments_lexer": "ipython3",
   "version": "3.5.2"
  }
 },
 "nbformat": 4,
 "nbformat_minor": 1
}
