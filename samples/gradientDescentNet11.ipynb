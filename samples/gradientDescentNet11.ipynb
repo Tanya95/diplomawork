{
 "cells": [
  {
   "cell_type": "code",
   "execution_count": 28,
   "metadata": {
    "collapsed": false
   },
   "outputs": [
    {
     "name": "stdout",
     "output_type": "stream",
     "text": [
      "Populating the interactive namespace from numpy and matplotlib\n"
     ]
    }
   ],
   "source": [
    "# https://iamtrask.github.io//2015/07/27/python-network-part2/\n",
    "# Оптимизация и градиентный спуск\n",
    "# Алгоритм обратного распространения ошибки - не оптимизирован\n",
    "# Он распространяет ошибку с выхода сети к началу по всем весам\n",
    "# Для оптимизации служат различные алгоритмы \n",
    "#для построения графиков внутри notebook'a\n",
    "%pylab inline \n",
    "import pylab as pl # библиотека для построения графиков\n",
    "import numpy as np # библиотека для осуществления вычислений"
   ]
  },
  {
   "cell_type": "code",
   "execution_count": 29,
   "metadata": {
    "collapsed": true
   },
   "outputs": [],
   "source": [
    "# sigmoid function - или функция активации нейронов\n",
    "def sigmoid(x,deriv=False): \n",
    "    if(deriv==True): # если истина  - то нам нужна производная\n",
    "        return x*(1-x) # возвращаем производную функции\n",
    "    return 1/(1+np.exp(-x)) # возвращаем функцию"
   ]
  },
  {
   "cell_type": "code",
   "execution_count": 30,
   "metadata": {
    "collapsed": true
   },
   "outputs": [],
   "source": [
    "# для примера построим график функции\n",
    "tmpX = np.arange(-5,5,0.1) "
   ]
  },
  {
   "cell_type": "code",
   "execution_count": 31,
   "metadata": {
    "collapsed": true
   },
   "outputs": [],
   "source": [
    "tmpY = sigmoid(tmpX)"
   ]
  },
  {
   "cell_type": "code",
   "execution_count": 32,
   "metadata": {
    "collapsed": false
   },
   "outputs": [
    {
     "data": {
      "image/png": "[encoded data removed]",
      "text/plain": [
       "<matplotlib.figure.Figure at 0x7f268170e240>"
      ]
     },
     "metadata": {},
     "output_type": "display_data"
    }
   ],
   "source": [
    "pl.plot(tmpX,tmpY)\n",
    "plt.grid()"
   ]
  },
  {
   "cell_type": "code",
   "execution_count": 33,
   "metadata": {
    "collapsed": false
   },
   "outputs": [
    {
     "name": "stdout",
     "output_type": "stream",
     "text": [
      "[[0 1]\n",
      " [0 1]\n",
      " [1 0]\n",
      " [1 0]]\n",
      "(4, 2)\n"
     ]
    }
   ],
   "source": [
    "# Входные данные 2 входа и 4 примера\n",
    "X = np.array([  [0,1],\n",
    "                [0,1],\n",
    "                [1,0],\n",
    "                [1,0] ])\n",
    "print(X)\n",
    "print(X.shape)"
   ]
  },
  {
   "cell_type": "code",
   "execution_count": 34,
   "metadata": {
    "collapsed": false
   },
   "outputs": [
    {
     "name": "stdout",
     "output_type": "stream",
     "text": [
      "[[0]\n",
      " [0]\n",
      " [1]\n",
      " [1]]\n",
      "(4, 1)\n"
     ]
    }
   ],
   "source": [
    "# Выходные данные - 1 выход и 4 примера.\n",
    "y = np.array([[0,0,1,1]]).T\n",
    "print(y)\n",
    "print(y.shape)"
   ]
  },
  {
   "cell_type": "code",
   "execution_count": 35,
   "metadata": {
    "collapsed": true
   },
   "outputs": [],
   "source": [
    "# При генерации случаных чисел\n",
    "# использовать детерминированный подход, т.е.\n",
    "# при каждом запуске будут генерироваться \n",
    "# по одним и тем же правилам\n",
    "np.random.seed(1)"
   ]
  },
  {
   "cell_type": "code",
   "execution_count": 36,
   "metadata": {
    "collapsed": false
   },
   "outputs": [
    {
     "name": "stdout",
     "output_type": "stream",
     "text": [
      "[[-0.16595599]\n",
      " [ 0.44064899]]\n",
      "(2, 1)\n"
     ]
    }
   ],
   "source": [
    "# генерируем \"синапсы\" - веса связи между нейронами\n",
    "# у нас 2 входа и 1 выход\n",
    "syn0 = 2*np.random.random((2,1)) - 1\n",
    "\n",
    "print(syn0)\n",
    "print(syn0.shape)"
   ]
  },
  {
   "cell_type": "code",
   "execution_count": 37,
   "metadata": {
    "collapsed": false
   },
   "outputs": [],
   "source": [
    "errors=np.array([])\n",
    "numJ =np.array([])\n",
    "for j in range(10000):\n",
    "# forward propagation\n",
    "    # Загружаем сразу все тренировочные примеры\n",
    "    # на 0 - входной слой\n",
    "    l0 = X\n",
    "    \n",
    "    # Умножаем вход на веса\n",
    "    # l0 - матрица 4x2 syn0 - 2x1\n",
    "    # при перемножении - размерность в середине должна совпадать 4х2 * 2х1 = 4х1    \n",
    "    l1 = sigmoid(np.dot(l0,syn0))\n",
    "    \n",
    "    # сравниваем с ожидаемым результатом\n",
    "    # и сохраняем ошибку (4x1)\n",
    "    l1_error = l1- y\n",
    "    \n",
    "    # формируем массив - номер обучения\n",
    "    # и средняя ошибка и все веса\n",
    "    # это для порсмотра режима обучения\n",
    "    if (j%10==0):\n",
    "        numJ=np.append(numJ,j)\n",
    "        errors=np.append(errors,np.mean(np.abs(l1_error)))\n",
    "        # print(syn0)\n",
    "        \n",
    "    # multiply how much we missed by the \n",
    "    # slope of the sigmoid at the values in l1\n",
    "    # вычисляем разницу, но умножая ошибку \n",
    "    # на производную функции активации \n",
    "    # также вычисляем дельту\n",
    "    # Вот тут и происходит градиентный спуск\n",
    "    l1_delta = l1_error * sigmoid(l1,deriv=True)\n",
    "    syn_deriv = np.dot(l0.T,l1_delta)\n",
    "    # Обновляем значения весов\n",
    "    # Самая главная часть \n",
    "    syn0 -= syn_deriv"
   ]
  },
  {
   "cell_type": "code",
   "execution_count": 38,
   "metadata": {
    "collapsed": false
   },
   "outputs": [
    {
     "data": {
      "image/png": "[encoded data removed]",
      "text/plain": [
       "<matplotlib.figure.Figure at 0x7f26816edfd0>"
      ]
     },
     "metadata": {},
     "output_type": "display_data"
    }
   ],
   "source": [
    "#Нарисуем кривую изменения ошибки\n",
    "#print(numJ)\n",
    "#print(errors)\n",
    "pl.plot(numJ,errors)\n",
    "pl.grid()"
   ]
  },
  {
   "cell_type": "code",
   "execution_count": 39,
   "metadata": {
    "collapsed": false
   },
   "outputs": [
    {
     "name": "stdout",
     "output_type": "stream",
     "text": [
      "Output After Training:\n",
      "[[ 0.00505119]\n",
      " [ 0.00505119]\n",
      " [ 0.99494905]\n",
      " [ 0.99494905]]\n",
      "Synapse\n",
      "[[ 5.28316618]\n",
      " [-5.28311816]]\n"
     ]
    }
   ],
   "source": [
    "print (\"Output After Training:\")\n",
    "print (l1)\n",
    "print('Synapse')\n",
    "print(syn0)"
   ]
  },
  {
   "cell_type": "code",
   "execution_count": 40,
   "metadata": {
    "collapsed": false
   },
   "outputs": [
    {
     "name": "stdout",
     "output_type": "stream",
     "text": [
      "0.00505093506836\n",
      "0.0\n"
     ]
    }
   ],
   "source": [
    "# попробуем проверить - должно получится значение близкое к 0\n",
    "testIn = np.array([0,1])\n",
    "testOut = sigmoid(np.dot(testIn,syn0))\n",
    "print(testOut[0])\n",
    "# результат округляем\n",
    "print(round(testOut[0]))"
   ]
  },
  {
   "cell_type": "code",
   "execution_count": 42,
   "metadata": {
    "collapsed": false
   },
   "outputs": [
    {
     "name": "stdout",
     "output_type": "stream",
     "text": [
      "0.994949306266\n",
      "1.0\n"
     ]
    }
   ],
   "source": [
    "# попробуем проверить - должно получится значение близкое к 1\n",
    "testIn = np.array([1,0])\n",
    "testOut = sigmoid(np.dot(testIn,syn0))\n",
    "print(testOut[0])\n",
    "# результат округляем\n",
    "print(round(testOut[0]))"
   ]
  }
 ],
 "metadata": {
  "kernelspec": {
   "display_name": "Python 3",
   "language": "python",
   "name": "python3"
  },
  "language_info": {
   "codemirror_mode": {
    "name": "ipython",
    "version": 3
   },
   "file_extension": ".py",
   "mimetype": "text/x-python",
   "name": "python",
   "nbconvert_exporter": "python",
   "pygments_lexer": "ipython3",
   "version": "3.4.3"
  }
 },
 "nbformat": 4,
 "nbformat_minor": 0
}
