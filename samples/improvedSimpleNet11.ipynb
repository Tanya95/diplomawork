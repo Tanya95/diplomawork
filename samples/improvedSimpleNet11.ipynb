{
 "cells": [
  {
   "cell_type": "code",
   "execution_count": 68,
   "metadata": {
    "collapsed": false
   },
   "outputs": [
    {
     "name": "stdout",
     "output_type": "stream",
     "text": [
      "Populating the interactive namespace from numpy and matplotlib\n"
     ]
    }
   ],
   "source": [
    "# http://iamtrask.github.io/2015/07/12/basic-python-network/\n",
    "# Данная сеть предназначена для решения достаточно простой задачи\n",
    "# использовать данные на входе для предсказания значения на выходе\n",
    "# данная задача чуть посложнее, нет прямого совпадения \n",
    "# между входом и выходом\n",
    "# Inputs \tOutput\n",
    "# 0 0 1 \t0\n",
    "# 0 1 1 \t1\n",
    "# 1 0 1 \t1\n",
    "# 1 1 1 \t0\n",
    "# для решения данной проблемы, \n",
    "# мы будем добавлятьдополнительный внутренний слой\n",
    "#для построения графиков внутри notebook'a\n",
    "%pylab inline \n",
    "import pylab as pl # библиотека для построения графиков\n",
    "import numpy as np # библиотека для осуществления вычислений"
   ]
  },
  {
   "cell_type": "code",
   "execution_count": 69,
   "metadata": {
    "collapsed": true
   },
   "outputs": [],
   "source": [
    "# sigmoid function - или функция активации нейронов\n",
    "def sigmoid(x,deriv=False): \n",
    "    if(deriv==True): # если истина  - то нам нужна производная\n",
    "        return x*(1-x) # возвращаем производную функции\n",
    "    return 1/(1+np.exp(-x)) # возвращаем функцию"
   ]
  },
  {
   "cell_type": "code",
   "execution_count": 70,
   "metadata": {
    "collapsed": true
   },
   "outputs": [],
   "source": [
    "# для примера построим график функции\n",
    "tmpX = np.arange(-5,5,0.1) "
   ]
  },
  {
   "cell_type": "code",
   "execution_count": 71,
   "metadata": {
    "collapsed": true
   },
   "outputs": [],
   "source": [
    "tmpY = sigmoid(tmpX)"
   ]
  },
  {
   "cell_type": "code",
   "execution_count": 72,
   "metadata": {
    "collapsed": false
   },
   "outputs": [
    {
     "data": {
      "image/png": "[encoded data removed]",
      "text/plain": [
       "<matplotlib.figure.Figure at 0x7f3bbdef02b0>"
      ]
     },
     "metadata": {},
     "output_type": "display_data"
    }
   ],
   "source": [
    "pl.plot(tmpX,tmpY)\n",
    "plt.grid()"
   ]
  },
  {
   "cell_type": "code",
   "execution_count": 73,
   "metadata": {
    "collapsed": false
   },
   "outputs": [
    {
     "name": "stdout",
     "output_type": "stream",
     "text": [
      "[[0 0 1]\n",
      " [0 1 1]\n",
      " [1 0 1]\n",
      " [1 1 1]]\n",
      "(4, 3)\n"
     ]
    }
   ],
   "source": [
    "# Входные данные 3 входа и 4 примера\n",
    "X = np.array([[0,0,1],\n",
    "            [0,1,1],\n",
    "            [1,0,1],\n",
    "            [1,1,1]])\n",
    "print(X)\n",
    "print(X.shape)"
   ]
  },
  {
   "cell_type": "code",
   "execution_count": 74,
   "metadata": {
    "collapsed": false
   },
   "outputs": [
    {
     "name": "stdout",
     "output_type": "stream",
     "text": [
      "[[0]\n",
      " [1]\n",
      " [1]\n",
      " [0]]\n",
      "(4, 1)\n"
     ]
    }
   ],
   "source": [
    "# Выходные данные - 1 выход и 4 примера.\n",
    "y = np.array([[0],\n",
    "\t\t\t[1],\n",
    "\t\t\t[1],\n",
    "\t\t\t[0]])\n",
    "print(y)\n",
    "print(y.shape)"
   ]
  },
  {
   "cell_type": "code",
   "execution_count": 75,
   "metadata": {
    "collapsed": true
   },
   "outputs": [],
   "source": [
    "# При генерации случаных чисел\n",
    "# использовать детерминированный подход, т.е.\n",
    "# при каждом запуске будут генерироваться \n",
    "# по одним и тем же правилам\n",
    "np.random.seed(1)"
   ]
  },
  {
   "cell_type": "code",
   "execution_count": 76,
   "metadata": {
    "collapsed": false
   },
   "outputs": [
    {
     "name": "stdout",
     "output_type": "stream",
     "text": [
      "[[-0.16595599]\n",
      " [ 0.44064899]\n",
      " [-0.99977125]\n",
      " [-0.39533485]]\n",
      "(4, 1)\n",
      "[[-0.70648822 -0.81532281 -0.62747958 -0.30887855]\n",
      " [-0.20646505  0.07763347 -0.16161097  0.370439  ]\n",
      " [-0.5910955   0.75623487 -0.94522481  0.34093502]]\n",
      "(3, 4)\n"
     ]
    }
   ],
   "source": [
    "# генерируем \"синапсы\" - веса связи между нейронами\n",
    "# у нас 3 входа, внутренний слой состоит из 4х элеметнов\n",
    "# это внутренний слой - размер 4х1\n",
    "syn1 = 2*np.random.random((4,1)) - 1\n",
    "# а вот связей надо 3х4, чтобы создать полносвязную сеть\n",
    "syn0 = 2*np.random.random((3,4)) - 1\n",
    "\n",
    "print(syn1)\n",
    "print(syn1.shape)\n",
    "print(syn0)\n",
    "print(syn0.shape)"
   ]
  },
  {
   "cell_type": "code",
   "execution_count": 77,
   "metadata": {
    "collapsed": false
   },
   "outputs": [],
   "source": [
    "errors=np.array([])\n",
    "numJ =np.array([])\n",
    "for j in range(60000):\n",
    "# forward propagation\n",
    "    # Загружаем сразу все тренировочные примеры\n",
    "    # на 0 - входной слой\n",
    "    l0 = X\n",
    "    \n",
    "    # Умножаем вход на веса\n",
    "    # это и есть попытка \"предсказать значение\" для внутреннего слоя\n",
    "    # l0 - матрица 4x3 syn0 - 3x4\n",
    "    # при перемножении - размерность в середине должна совпадать 4х3 * 3х4 = 4х4    \n",
    "    l1 = sigmoid(np.dot(l0,syn0))\n",
    "    \n",
    "    # а теперь обучим слой 2 - выходной, подав на него значений нейронов слоя \n",
    "    # 4x4 - 4x1 = 4x1 - обучение для всех тренировочных примеров\n",
    "    l2 = sigmoid(np.dot(l1,syn1))\n",
    "    \n",
    "    \n",
    "    # сравниваем с ожидаемым результатом\n",
    "    # и сохраняем ошибку (4x1)\n",
    "    l2_error = y - l2\n",
    "    \n",
    "    # формируем массив - номер обучения\n",
    "    # и средняя ошибка и все веса\n",
    "    # это для порсотра режима обучения\n",
    "    if (j%10==0):\n",
    "        numJ=np.append(numJ,j)\n",
    "        errors=np.append(errors,np.mean(np.abs(l2_error)))\n",
    "        # print(syn0)\n",
    "        \n",
    "    # multiply how much we missed by the \n",
    "    # slope of the sigmoid at the values in l1\n",
    "    # вычисляем разницу, но умножая ошибку \n",
    "    # на производную функции активации \n",
    "    l2_delta = l2_error*sigmoid(l2,deriv=True)\n",
    "    \n",
    "    # Распространяем ошибку в обратную сторнону\n",
    "    l1_error = l2_delta.dot(syn1.T)\n",
    "    \n",
    "    # также вычисляем дельту\n",
    "    l1_delta = l1_error * sigmoid(l1,deriv=True)\n",
    "\n",
    "    # Обновляем значения весов\n",
    "    # Самая главная часть \n",
    "    syn1 += l1.T.dot(l2_delta)\n",
    "    syn0 += l0.T.dot(l1_delta)"
   ]
  },
  {
   "cell_type": "code",
   "execution_count": 78,
   "metadata": {
    "collapsed": false
   },
   "outputs": [
    {
     "data": {
      "image/png": "[encoded data removed]",
      "text/plain": [
       "<matplotlib.figure.Figure at 0x7f3bbdfee2b0>"
      ]
     },
     "metadata": {},
     "output_type": "display_data"
    }
   ],
   "source": [
    "#Нарисуем кривую изменения ошибки\n",
    "#print(numJ)\n",
    "#print(errors)\n",
    "pl.plot(numJ,errors)\n",
    "pl.grid()"
   ]
  },
  {
   "cell_type": "code",
   "execution_count": 82,
   "metadata": {
    "collapsed": false
   },
   "outputs": [
    {
     "name": "stdout",
     "output_type": "stream",
     "text": [
      "Output After Training:\n",
      "[[ 0.00398427]\n",
      " [ 0.99459406]\n",
      " [ 0.99763821]\n",
      " [ 0.00513251]]\n",
      "Synapse\n",
      "[[ -0.19380964]\n",
      " [ 11.79371668]\n",
      " [-12.45383901]\n",
      " [ -5.98412096]]\n",
      "Output After Training:\n",
      "[[  3.35235582e-01   9.99636668e-01   9.49916692e-01   9.05022709e-01]\n",
      " [  2.24443001e-01   9.64994131e-01   1.28563255e-02   9.96372668e-01]\n",
      " [  1.88031800e-01   8.38134847e-01   3.59894145e-02   5.60499351e-01]\n",
      " [  1.17304149e-01   4.93218201e-02   2.56345572e-05   9.73519021e-01]]\n",
      "Synapse\n",
      "[[-0.77825051 -6.2754209  -6.23056634 -2.01113749]\n",
      " [-0.55536094 -4.60322734 -7.28367075  3.36130517]\n",
      " [-0.68459914  7.91983664  2.9426889   2.25432556]]\n"
     ]
    }
   ],
   "source": [
    "print (\"Output After Training:\")\n",
    "print (l2)\n",
    "print('Synapse')\n",
    "print(syn1)\n",
    "\n",
    "print (\"Output After Training:\")\n",
    "print (l1)\n",
    "print('Synapse')\n",
    "print(syn0)"
   ]
  },
  {
   "cell_type": "code",
   "execution_count": 83,
   "metadata": {
    "collapsed": false
   },
   "outputs": [
    {
     "name": "stdout",
     "output_type": "stream",
     "text": [
      "0.00513246395836\n",
      "0.0\n"
     ]
    }
   ],
   "source": [
    "# попробуем проверить - должно получится значение близкое к 0\n",
    "testIn = np.array([1,1,1])\n",
    "testOut = sigmoid(np.dot(testIn,syn0))\n",
    "testOut = sigmoid(np.dot(testOut,syn1))\n",
    "print(testOut[0])\n",
    "# результат округляем\n",
    "print(round(testOut[0]))"
   ]
  },
  {
   "cell_type": "code",
   "execution_count": 84,
   "metadata": {
    "collapsed": false
   },
   "outputs": [
    {
     "name": "stdout",
     "output_type": "stream",
     "text": [
      "0.994594103431\n",
      "1.0\n"
     ]
    }
   ],
   "source": [
    "# попробуем проверить - должно получится значение близкое к 1\n",
    "testIn = np.array([0,1,1])\n",
    "testOut = sigmoid(np.dot(testIn,syn0))\n",
    "testOut = sigmoid(np.dot(testOut,syn1))\n",
    "print(testOut[0])\n",
    "# результат округляем\n",
    "print(round(testOut[0]))"
   ]
  }
 ],
 "metadata": {
  "kernelspec": {
   "display_name": "Python 3",
   "language": "python",
   "name": "python3"
  },
  "language_info": {
   "codemirror_mode": {
    "name": "ipython",
    "version": 3
   },
   "file_extension": ".py",
   "mimetype": "text/x-python",
   "name": "python",
   "nbconvert_exporter": "python",
   "pygments_lexer": "ipython3",
   "version": "3.5.1+"
  }
 },
 "nbformat": 4,
 "nbformat_minor": 0
}
