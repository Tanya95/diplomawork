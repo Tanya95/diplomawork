{
 "cells": [
  {
   "cell_type": "code",
   "execution_count": 398,
   "metadata": {
    "collapsed": false,
    "deletable": true,
    "editable": true
   },
   "outputs": [
    {
     "name": "stdout",
     "output_type": "stream",
     "text": [
      "Populating the interactive namespace from numpy and matplotlib\n"
     ]
    }
   ],
   "source": [
    "import pickle as cPickle\n",
    "import gzip\n",
    "\n",
    "import numpy as np\n",
    "%pylab inline \n",
    "import matplotlib.pyplot as pl\n",
    "import cv2\n",
    "# from PIL import Image\n",
    "# import PIL.ImageOps \n",
    "\n",
    "# import matplotlib.image as mpimg"
   ]
  },
  {
   "cell_type": "code",
   "execution_count": 6,
   "metadata": {
    "collapsed": false,
    "deletable": true,
    "editable": true
   },
   "outputs": [
    {
     "data": {
      "image/png": "[encoded data removed]",
      "text/plain": [
       "<matplotlib.figure.Figure at 0x7fd1f2844cf8>"
      ]
     },
     "metadata": {},
     "output_type": "display_data"
    }
   ],
   "source": [
    "dirPath = 'ASL/signs/'\n",
    "import os\n",
    "signs = ''\n",
    "trainingX = []\n",
    "trainingY = []\n",
    "training = []\n",
    "width = 100\n",
    "height = 100\n",
    "for fl in os.listdir(dirPath):\n",
    "    fname = dirPath+fl\n",
    "    base=os.path.basename(fname)\n",
    "    symbol = os.path.splitext(base)[0]  \n",
    "    im = cv2.imread(fname,0)\n",
    "    ret,im = cv2.threshold(im,127,1,cv2.THRESH_BINARY_INV)\n",
    "#     print('im',im)\n",
    "#     print('ret',ret)\n",
    "#    print(type(im))\n",
    "    im = cv2.resize(im,(width,height))\n",
    "#    im = abs(im - 255)\n",
    "#    im = im/255\n",
    "    imshow(im)\n",
    "#     im = im.resize((100,100),Image.ANTIALIAS)\n",
    "#     (width, height) = im.size\n",
    "    imgB = np.asarray(im).reshape(-1)\n",
    "    trainingX.append(imgB)\n",
    "    trainingY.append(symbol)\n",
    "    signs += symbol\n",
    "    pass\n",
    "signs = sorted(signs)\n",
    "# signs.index('z')\n",
    "# print(width,height)\n",
    "training.append(trainingX)\n",
    "training.append(trainingY)\n",
    "#print(training[0][0])\n",
    "# for el in training[0][0]:\n",
    "#      print (el)\n",
    "# len(training[0][0])\n",
    "# len(im)"
   ]
  },
  {
   "cell_type": "code",
   "execution_count": 400,
   "metadata": {
    "collapsed": true,
    "deletable": true,
    "editable": true
   },
   "outputs": [],
   "source": [
    "def vectorized_result(j,size):\n",
    "    e = np.zeros((26, size))\n",
    "#     print('j:',j)\n",
    "#     print('size',size)\n",
    "    cnt=0\n",
    "    for i in j:\n",
    "        idx = signs.index(i)\n",
    "        e[idx][cnt] = 1.0\n",
    "        cnt+=1\n",
    "    return e"
   ]
  },
  {
   "cell_type": "code",
   "execution_count": 401,
   "metadata": {
    "collapsed": false,
    "deletable": true,
    "editable": true
   },
   "outputs": [],
   "source": [
    "Xdisplay = np.reshape(training[0][0],(width,height))\n",
    "y = vectorized_result(training[1][0:3],3)\n",
    "# pl.imshow(Xdisplay,cmap='Greys')\n",
    "X = np.float32(training[0][0:3])"
   ]
  },
  {
   "cell_type": "code",
   "execution_count": 402,
   "metadata": {
    "collapsed": true,
    "deletable": true,
    "editable": true
   },
   "outputs": [],
   "source": [
    "class Neural_Network(object):\n",
    "    def __init__(self,width,height):        \n",
    "        self.inputLayerSize = width*height\n",
    "        self.outputLayerSize = 26\n",
    "        self.hiddenLayerSize = 30\n",
    "\n",
    "        self.W1 = np.random.randn(self.inputLayerSize,self.hiddenLayerSize)\n",
    "        self.W2 = np.random.randn(self.hiddenLayerSize,self.outputLayerSize)\n",
    "        \n",
    "    def forward(self, X):\n",
    "        self.z2 = np.dot(X, self.W1)\n",
    "        self.a2 = self.sigmoid(self.z2)\n",
    "        self.z3 = np.dot(self.a2, self.W2)\n",
    "        yHat = self.sigmoid(self.z3) \n",
    "        return yHat\n",
    "        \n",
    "    def sigmoid(self, z):\n",
    "        return 1/(1+np.exp(-z))\n",
    "    \n",
    "    def sigmoidPrime(self,z):\n",
    "        return np.exp(-z)/((1+np.exp(-z))**2)\n",
    "    \n",
    "    def costFunction(self, X, y):\n",
    "        self.yHat = self.forward(X)\n",
    "        J = 0.5*sum((y-self.yHat)**2)\n",
    "        return J\n",
    "        \n",
    "    def costFunctionPrime(self, X, y):\n",
    "        self.yHat = self.forward(X)\n",
    "        delta3 = np.multiply(-(y-self.yHat), self.sigmoidPrime(self.z3))\n",
    "        dJdW2 = np.dot(self.a2.T, delta3)\n",
    "        delta2 = np.float32(np.dot(delta3, self.W2.T)*self.sigmoidPrime(self.z2))\n",
    "        dJdW1 = np.dot(X.T, delta2)\n",
    "        return dJdW1, dJdW2\n",
    "    \n",
    "    def getParams(self):\n",
    "        params = np.concatenate((self.W1.ravel(), self.W2.ravel()))\n",
    "        return params\n",
    "    \n",
    "    def setParams(self, params):\n",
    "        W1_start = 0\n",
    "        W1_end = self.hiddenLayerSize * self.inputLayerSize\n",
    "        self.W1 = np.reshape(params[W1_start:W1_end], (self.inputLayerSize , self.hiddenLayerSize))\n",
    "        W2_end = W1_end + self.hiddenLayerSize*self.outputLayerSize\n",
    "        self.W2 = np.reshape(params[W1_end:W2_end], (self.hiddenLayerSize, self.outputLayerSize))\n",
    "        \n",
    "    def computeGradients(self, X, y):\n",
    "        dJdW1, dJdW2 = self.costFunctionPrime(X, y)\n",
    "        return np.concatenate((dJdW1.ravel(), dJdW2.ravel()))"
   ]
  },
  {
   "cell_type": "code",
   "execution_count": 403,
   "metadata": {
    "collapsed": true,
    "deletable": true,
    "editable": true
   },
   "outputs": [],
   "source": [
    "NN = Neural_Network(width,height)"
   ]
  },
  {
   "cell_type": "code",
   "execution_count": 404,
   "metadata": {
    "collapsed": false,
    "deletable": true,
    "editable": true
   },
   "outputs": [],
   "source": [
    "costarr=[]\n",
    "for i in range(0,500):\n",
    "    for j in range(0,len(training[0]),2):\n",
    "#     for j in range(0,10,2): # len(training[0]),2):\n",
    "#         print(j)\n",
    "        y = vectorized_result(training[1][j:j+2],2)\n",
    "#         print('y',y.shape)\n",
    "        X = np.float32(training[0][j:j+2])\n",
    "#         X = X.reshape(X.shape[0],1)\n",
    "#         print('X',X.shape)\n",
    "        cost = NN.costFunction(X,y.T)\n",
    "        costarr.append(cost)\n",
    "        dJdW1, dJdW2 = NN.costFunctionPrime(X,y.T)\n",
    "        scalar = 1\n",
    "        NN.W1 = NN.W1 - scalar*dJdW1\n",
    "        NN.W2 = NN.W2 - scalar*dJdW2\n",
    "# print(costarr)"
   ]
  },
  {
   "cell_type": "code",
   "execution_count": 405,
   "metadata": {
    "collapsed": false,
    "deletable": true,
    "editable": true
   },
   "outputs": [
    {
     "data": {
      "text/plain": [
       "<matplotlib.text.Text at 0x7fa6e3c237f0>"
      ]
     },
     "execution_count": 405,
     "metadata": {},
     "output_type": "execute_result"
    },
    {
     "data": {
      "image/png": "[encoded data removed]",
      "text/plain": [
       "<matplotlib.figure.Figure at 0x7fa6e3c16f60>"
      ]
     },
     "metadata": {},
     "output_type": "display_data"
    }
   ],
   "source": [
    "plot(costarr)\n",
    "grid(1)\n",
    "xlabel('Iterations')\n",
    "ylabel('Cost')\n",
    "# print (costarr)"
   ]
  },
  {
   "cell_type": "code",
   "execution_count": 406,
   "metadata": {
    "collapsed": false,
    "deletable": true,
    "editable": true
   },
   "outputs": [
    {
     "name": "stdout",
     "output_type": "stream",
     "text": [
      "[[ 0.    0.01  0.    0.01  0.    0.    0.    0.    0.    0.    0.    0.01\n",
      "   0.    0.    0.    0.    0.01  0.02  0.    0.    0.    0.    0.    0.01\n",
      "   0.01  0.98]\n",
      " [ 0.    0.    0.    0.01  0.    0.02  0.03  0.02  0.    0.    0.    0.    0.\n",
      "   0.03  0.    0.    0.    0.    0.95  0.    0.    0.02  0.    0.03  0.01\n",
      "   0.  ]\n",
      " [ 0.    0.    0.    0.97  0.    0.    0.    0.    0.    0.    0.    0.\n",
      "   0.01  0.    0.    0.    0.01  0.    0.01  0.02  0.    0.01  0.    0.    0.\n",
      "   0.01]]\n",
      "['z', 's', 'd']\n",
      "yarr ['z', 's', 'd']\n"
     ]
    },
    {
     "data": {
      "text/plain": [
       "0"
      ]
     },
     "execution_count": 406,
     "metadata": {},
     "output_type": "execute_result"
    }
   ],
   "source": [
    "X = np.float32(training[0][0:3])\n",
    "result=NN.forward(X)\n",
    "result=np.around(result, decimals = 2)\n",
    "print(result)\n",
    "yarr=training[1][0:3]\n",
    "res=[np.argmax(i) for i in  result]\n",
    "print([signs[sign] for sign in res])\n",
    "print('yarr',yarr)\n",
    "sum(int(x == y) for (x, y) in list(zip(res,yarr)))"
   ]
  },
  {
   "cell_type": "code",
   "execution_count": 4,
   "metadata": {
    "collapsed": false
   },
   "outputs": [
    {
     "name": "stdout",
     "output_type": "stream",
     "text": [
      "Populating the interactive namespace from numpy and matplotlib\n"
     ]
    }
   ],
   "source": [
    "%pylab inline \n",
    "import cv2\n",
    "from IPython.display import clear_output"
   ]
  },
  {
   "cell_type": "code",
   "execution_count": 7,
   "metadata": {
    "collapsed": false
   },
   "outputs": [
    {
     "name": "stdout",
     "output_type": "stream",
     "text": [
      "Released Video Resource\n"
     ]
    }
   ],
   "source": [
    "try:\n",
    "#     cap = cv2.VideoCapture(0)\n",
    "    cap = cv2.VideoCapture(-1)\n",
    "    while(1):\n",
    "        # Capture frame-by-frame\n",
    "        ret, frame = cap.read()\n",
    "        frame = cv2.resize(frame,(width,height))\n",
    "        hsv = cv2.cvtColor(frame, cv2.COLOR_BGR2HSV)\n",
    "        lower = np.array([-10,13,15])\n",
    "        upper = np.array([15,255,255])\n",
    "        mask = cv2.inRange(hsv, lower, upper)\n",
    "        res = cv2.bitwise_and(frame,frame, mask= mask)\n",
    "        imshow(mask)\n",
    "        show()\n",
    "        # Display the frame until new frame is available\n",
    "        clear_output(wait=True)\n",
    "except KeyboardInterrupt:\n",
    "    # Release the Video Device\n",
    "    cap.release()\n",
    "    # Message to be displayed after releasing the device\n",
    "    print(\"Released Video Resource\")"
   ]
  }
 ],
 "metadata": {
  "kernelspec": {
   "display_name": "Python 3",
   "language": "python",
   "name": "python3"
  },
  "language_info": {
   "codemirror_mode": {
    "name": "ipython",
    "version": 3
   },
   "file_extension": ".py",
   "mimetype": "text/x-python",
   "name": "python",
   "nbconvert_exporter": "python",
   "pygments_lexer": "ipython3",
   "version": "3.5.2"
  }
 },
 "nbformat": 4,
 "nbformat_minor": 2
}
